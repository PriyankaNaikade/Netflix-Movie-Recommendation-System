{
  "nbformat": 4,
  "nbformat_minor": 0,
  "metadata": {
    "colab": {
      "name": "Netflix Movie Recommendation - Content-Based Filtering.ipynb",
      "provenance": [],
      "collapsed_sections": []
    },
    "kernelspec": {
      "name": "python3",
      "display_name": "Python 3"
    },
    "accelerator": "GPU"
  },
  "cells": [
    {
      "cell_type": "code",
      "metadata": {
        "colab": {
          "base_uri": "https://localhost:8080/"
        },
        "id": "Vi6oNxUbnExG",
        "outputId": "8229ff4c-b4ce-4e04-e659-dd110271b012"
      },
      "source": [
        "!pip install PyDrive\r\n"
      ],
      "execution_count": 2,
      "outputs": [
        {
          "output_type": "stream",
          "text": [
            "Requirement already satisfied: PyDrive in /usr/local/lib/python3.6/dist-packages (1.3.1)\n",
            "Requirement already satisfied: PyYAML>=3.0 in /usr/local/lib/python3.6/dist-packages (from PyDrive) (3.13)\n",
            "Requirement already satisfied: oauth2client>=4.0.0 in /usr/local/lib/python3.6/dist-packages (from PyDrive) (4.1.3)\n",
            "Requirement already satisfied: google-api-python-client>=1.2 in /usr/local/lib/python3.6/dist-packages (from PyDrive) (1.7.12)\n",
            "Requirement already satisfied: pyasn1>=0.1.7 in /usr/local/lib/python3.6/dist-packages (from oauth2client>=4.0.0->PyDrive) (0.4.8)\n",
            "Requirement already satisfied: pyasn1-modules>=0.0.5 in /usr/local/lib/python3.6/dist-packages (from oauth2client>=4.0.0->PyDrive) (0.2.8)\n",
            "Requirement already satisfied: rsa>=3.1.4 in /usr/local/lib/python3.6/dist-packages (from oauth2client>=4.0.0->PyDrive) (4.6)\n",
            "Requirement already satisfied: httplib2>=0.9.1 in /usr/local/lib/python3.6/dist-packages (from oauth2client>=4.0.0->PyDrive) (0.17.4)\n",
            "Requirement already satisfied: six>=1.6.1 in /usr/local/lib/python3.6/dist-packages (from oauth2client>=4.0.0->PyDrive) (1.15.0)\n",
            "Requirement already satisfied: uritemplate<4dev,>=3.0.0 in /usr/local/lib/python3.6/dist-packages (from google-api-python-client>=1.2->PyDrive) (3.0.1)\n",
            "Requirement already satisfied: google-auth-httplib2>=0.0.3 in /usr/local/lib/python3.6/dist-packages (from google-api-python-client>=1.2->PyDrive) (0.0.4)\n",
            "Requirement already satisfied: google-auth>=1.4.1 in /usr/local/lib/python3.6/dist-packages (from google-api-python-client>=1.2->PyDrive) (1.17.2)\n",
            "Requirement already satisfied: cachetools<5.0,>=2.0.0 in /usr/local/lib/python3.6/dist-packages (from google-auth>=1.4.1->google-api-python-client>=1.2->PyDrive) (4.2.0)\n",
            "Requirement already satisfied: setuptools>=40.3.0 in /usr/local/lib/python3.6/dist-packages (from google-auth>=1.4.1->google-api-python-client>=1.2->PyDrive) (51.1.1)\n"
          ],
          "name": "stdout"
        }
      ]
    },
    {
      "cell_type": "code",
      "metadata": {
        "id": "thOjpzV6vZFZ"
      },
      "source": [
        "from pydrive.auth import GoogleAuth\r\n",
        "from pydrive.drive import GoogleDrive\r\n",
        "from google.colab import auth\r\n",
        "from oauth2client.client import GoogleCredentials"
      ],
      "execution_count": 3,
      "outputs": []
    },
    {
      "cell_type": "code",
      "metadata": {
        "id": "1rQCm16LvcrT"
      },
      "source": [
        "auth.authenticate_user()\r\n",
        "gauth = GoogleAuth()\r\n",
        "gauth.credentials = GoogleCredentials.get_application_default()\r\n",
        "drive = GoogleDrive(gauth)"
      ],
      "execution_count": 4,
      "outputs": []
    },
    {
      "cell_type": "code",
      "metadata": {
        "id": "D6zDj34ovf34",
        "colab": {
          "base_uri": "https://localhost:8080/",
          "height": 103
        },
        "outputId": "14610e41-eaa9-4082-e69c-ae1e926de7cc"
      },
      "source": [
        "downloaded = drive.CreateFile({'id':\"1kZXI4ONV4T166v-EUirvOT8aXgP2lAmg\"})   # replace the id with id of file you want to access\r\n",
        "downloaded.GetContentFile('combined_data_1.txt') \r\n",
        "\r\n",
        "'''\r\n",
        "downloaded = drive.CreateFile({'id':\"1i8T62KDEv4qqhx5JarhZJSE2dws71u5k\"})   # replace the id with id of file you want to access\r\n",
        "downloaded.GetContentFile('combined_data_2.txt')  \r\n",
        "\r\n",
        "downloaded = drive.CreateFile({'id':\"1CLwcvzytUkg7-gmSN_xqzFDi2FUuwL1S\"})   # replace the id with id of file you want to access\r\n",
        "downloaded.GetContentFile('combined_data_3.txt')  \r\n",
        "\r\n",
        "downloaded = drive.CreateFile({'id':\"1QOLqBYzMBk1gQG4D_jp5Y6q1l8ytnN9d\"})   # replace the id with id of file you want to access\r\n",
        "downloaded.GetContentFile('combined_data_4.txt')  \r\n",
        "\r\n",
        "downloaded = drive.CreateFile({'id':\"1r525jFDq5EUOxHahJCL3zjEMPiFQ5X6i\"})   # replace the id with id of file you want to access\r\n",
        "downloaded.GetContentFile('probe.txt')  \r\n",
        "\r\n",
        "downloaded = drive.CreateFile({'id':\"1hBXwM5bUib3p9k0NV5h1je9hKHf1ATZd\"})   # replace the id with id of file you want to access\r\n",
        "downloaded.GetContentFile('qualifying.txt')  \r\n",
        "'''"
      ],
      "execution_count": 5,
      "outputs": [
        {
          "output_type": "execute_result",
          "data": {
            "application/vnd.google.colaboratory.intrinsic+json": {
              "type": "string"
            },
            "text/plain": [
              "'\\ndownloaded = drive.CreateFile({\\'id\\':\"1i8T62KDEv4qqhx5JarhZJSE2dws71u5k\"})   # replace the id with id of file you want to access\\ndownloaded.GetContentFile(\\'combined_data_2.txt\\')  \\n\\ndownloaded = drive.CreateFile({\\'id\\':\"1CLwcvzytUkg7-gmSN_xqzFDi2FUuwL1S\"})   # replace the id with id of file you want to access\\ndownloaded.GetContentFile(\\'combined_data_3.txt\\')  \\n\\ndownloaded = drive.CreateFile({\\'id\\':\"1QOLqBYzMBk1gQG4D_jp5Y6q1l8ytnN9d\"})   # replace the id with id of file you want to access\\ndownloaded.GetContentFile(\\'combined_data_4.txt\\')  \\n\\ndownloaded = drive.CreateFile({\\'id\\':\"1r525jFDq5EUOxHahJCL3zjEMPiFQ5X6i\"})   # replace the id with id of file you want to access\\ndownloaded.GetContentFile(\\'probe.txt\\')  \\n\\ndownloaded = drive.CreateFile({\\'id\\':\"1hBXwM5bUib3p9k0NV5h1je9hKHf1ATZd\"})   # replace the id with id of file you want to access\\ndownloaded.GetContentFile(\\'qualifying.txt\\')  \\n'"
            ]
          },
          "metadata": {
            "tags": []
          },
          "execution_count": 5
        }
      ]
    },
    {
      "cell_type": "code",
      "metadata": {
        "id": "xIW_hMANFk50"
      },
      "source": [
        "\r\n",
        "import pickle\r\n",
        "import pandas as pd\r\n",
        "import numpy as np\r\n",
        "import math"
      ],
      "execution_count": 6,
      "outputs": []
    },
    {
      "cell_type": "code",
      "metadata": {
        "id": "aYAlR2g_4bLU"
      },
      "source": [
        "data = open('data.csv','w')\r\n",
        "files = ['combined_data_1.txt'] #,'combined_data_2.txt','combined_data_3.txt','combined_data_4.txt']\r\n",
        "\r\n",
        "for file in files:\r\n",
        "  with open(file,'r') as f:\r\n",
        "    for line in f:\r\n",
        "      line = line.strip()\r\n",
        "      #print(line)\r\n",
        "      if line.endswith(':'):\r\n",
        "        movieID = line.replace(':','')\r\n",
        "      else:\r\n",
        "        data.write(movieID + ',' + line + '\\n')\r\n",
        "\r\n",
        "data.close()\r\n",
        "\r\n",
        "df = pd.read_csv('data.csv', names=['movie_id', 'user_id','rating','date'])\r\n",
        "\r\n"
      ],
      "execution_count": 7,
      "outputs": []
    },
    {
      "cell_type": "code",
      "metadata": {
        "colab": {
          "base_uri": "https://localhost:8080/"
        },
        "id": "RjCP3dNrFa7G",
        "outputId": "994dae6e-73ac-4d89-aaa4-28b06c158a4b"
      },
      "source": [
        "df.info()"
      ],
      "execution_count": 8,
      "outputs": [
        {
          "output_type": "stream",
          "text": [
            "<class 'pandas.core.frame.DataFrame'>\n",
            "RangeIndex: 24053764 entries, 0 to 24053763\n",
            "Data columns (total 4 columns):\n",
            " #   Column    Dtype \n",
            "---  ------    ----- \n",
            " 0   movie_id  int64 \n",
            " 1   user_id   int64 \n",
            " 2   rating    int64 \n",
            " 3   date      object\n",
            "dtypes: int64(3), object(1)\n",
            "memory usage: 734.1+ MB\n"
          ],
          "name": "stdout"
        }
      ]
    },
    {
      "cell_type": "code",
      "metadata": {
        "colab": {
          "base_uri": "https://localhost:8080/",
          "height": 35
        },
        "id": "Kz91ctxWE84o",
        "outputId": "b8ad517d-4d9a-4b87-c358-09a220df922c"
      },
      "source": [
        "'''from google.colab import files\r\n",
        "\r\n",
        "files.download('data.csv') '''"
      ],
      "execution_count": 9,
      "outputs": [
        {
          "output_type": "execute_result",
          "data": {
            "application/vnd.google.colaboratory.intrinsic+json": {
              "type": "string"
            },
            "text/plain": [
              "\"from google.colab import files\\n\\nfiles.download('data.csv') \""
            ]
          },
          "metadata": {
            "tags": []
          },
          "execution_count": 9
        }
      ]
    },
    {
      "cell_type": "code",
      "metadata": {
        "colab": {
          "base_uri": "https://localhost:8080/",
          "height": 204
        },
        "id": "4K5PjuEKR6-t",
        "outputId": "12418f30-914a-4961-c9f5-9f8bd69d83d0"
      },
      "source": [
        "#df = df[0:1000000]\r\n",
        "df.head()\r\n"
      ],
      "execution_count": 10,
      "outputs": [
        {
          "output_type": "execute_result",
          "data": {
            "text/html": [
              "<div>\n",
              "<style scoped>\n",
              "    .dataframe tbody tr th:only-of-type {\n",
              "        vertical-align: middle;\n",
              "    }\n",
              "\n",
              "    .dataframe tbody tr th {\n",
              "        vertical-align: top;\n",
              "    }\n",
              "\n",
              "    .dataframe thead th {\n",
              "        text-align: right;\n",
              "    }\n",
              "</style>\n",
              "<table border=\"1\" class=\"dataframe\">\n",
              "  <thead>\n",
              "    <tr style=\"text-align: right;\">\n",
              "      <th></th>\n",
              "      <th>movie_id</th>\n",
              "      <th>user_id</th>\n",
              "      <th>rating</th>\n",
              "      <th>date</th>\n",
              "    </tr>\n",
              "  </thead>\n",
              "  <tbody>\n",
              "    <tr>\n",
              "      <th>0</th>\n",
              "      <td>1</td>\n",
              "      <td>1488844</td>\n",
              "      <td>3</td>\n",
              "      <td>2005-09-06</td>\n",
              "    </tr>\n",
              "    <tr>\n",
              "      <th>1</th>\n",
              "      <td>1</td>\n",
              "      <td>822109</td>\n",
              "      <td>5</td>\n",
              "      <td>2005-05-13</td>\n",
              "    </tr>\n",
              "    <tr>\n",
              "      <th>2</th>\n",
              "      <td>1</td>\n",
              "      <td>885013</td>\n",
              "      <td>4</td>\n",
              "      <td>2005-10-19</td>\n",
              "    </tr>\n",
              "    <tr>\n",
              "      <th>3</th>\n",
              "      <td>1</td>\n",
              "      <td>30878</td>\n",
              "      <td>4</td>\n",
              "      <td>2005-12-26</td>\n",
              "    </tr>\n",
              "    <tr>\n",
              "      <th>4</th>\n",
              "      <td>1</td>\n",
              "      <td>823519</td>\n",
              "      <td>3</td>\n",
              "      <td>2004-05-03</td>\n",
              "    </tr>\n",
              "  </tbody>\n",
              "</table>\n",
              "</div>"
            ],
            "text/plain": [
              "   movie_id  user_id  rating        date\n",
              "0         1  1488844       3  2005-09-06\n",
              "1         1   822109       5  2005-05-13\n",
              "2         1   885013       4  2005-10-19\n",
              "3         1    30878       4  2005-12-26\n",
              "4         1   823519       3  2004-05-03"
            ]
          },
          "metadata": {
            "tags": []
          },
          "execution_count": 10
        }
      ]
    },
    {
      "cell_type": "code",
      "metadata": {
        "colab": {
          "base_uri": "https://localhost:8080/"
        },
        "id": "SvtFEVWdTtGg",
        "outputId": "985902c5-1271-48b9-c2d1-26caaf93e154"
      },
      "source": [
        "#Number of Distinct Movies\r\n",
        "df['movie_id'].nunique()"
      ],
      "execution_count": 11,
      "outputs": [
        {
          "output_type": "execute_result",
          "data": {
            "text/plain": [
              "4499"
            ]
          },
          "metadata": {
            "tags": []
          },
          "execution_count": 11
        }
      ]
    },
    {
      "cell_type": "code",
      "metadata": {
        "colab": {
          "base_uri": "https://localhost:8080/"
        },
        "id": "g5dbjKX1TzOV",
        "outputId": "8cc12b0e-dabd-4ef5-c65e-3c2a10559809"
      },
      "source": [
        "#Number of User IDs\r\n",
        "df['user_id'].nunique()"
      ],
      "execution_count": 12,
      "outputs": [
        {
          "output_type": "execute_result",
          "data": {
            "text/plain": [
              "470758"
            ]
          },
          "metadata": {
            "tags": []
          },
          "execution_count": 12
        }
      ]
    },
    {
      "cell_type": "code",
      "metadata": {
        "colab": {
          "base_uri": "https://localhost:8080/"
        },
        "id": "xRffJ1aJUbmR",
        "outputId": "e8d6e828-6d17-4f5d-b9c6-5ee14ea15b46"
      },
      "source": [
        "df.info()"
      ],
      "execution_count": 13,
      "outputs": [
        {
          "output_type": "stream",
          "text": [
            "<class 'pandas.core.frame.DataFrame'>\n",
            "RangeIndex: 24053764 entries, 0 to 24053763\n",
            "Data columns (total 4 columns):\n",
            " #   Column    Dtype \n",
            "---  ------    ----- \n",
            " 0   movie_id  int64 \n",
            " 1   user_id   int64 \n",
            " 2   rating    int64 \n",
            " 3   date      object\n",
            "dtypes: int64(3), object(1)\n",
            "memory usage: 734.1+ MB\n"
          ],
          "name": "stdout"
        }
      ]
    },
    {
      "cell_type": "code",
      "metadata": {
        "colab": {
          "base_uri": "https://localhost:8080/"
        },
        "id": "Qd5LBqy9VPgl",
        "outputId": "a4500eb0-a60e-488c-cd3d-e3b4261a7977"
      },
      "source": [
        "df.shape"
      ],
      "execution_count": 14,
      "outputs": [
        {
          "output_type": "execute_result",
          "data": {
            "text/plain": [
              "(24053764, 4)"
            ]
          },
          "metadata": {
            "tags": []
          },
          "execution_count": 14
        }
      ]
    },
    {
      "cell_type": "code",
      "metadata": {
        "colab": {
          "base_uri": "https://localhost:8080/"
        },
        "id": "9sStOYKOgLTH",
        "outputId": "bb85d9c6-ba24-4db8-bd53-19526eedaaf8"
      },
      "source": [
        "df.info()"
      ],
      "execution_count": 15,
      "outputs": [
        {
          "output_type": "stream",
          "text": [
            "<class 'pandas.core.frame.DataFrame'>\n",
            "RangeIndex: 24053764 entries, 0 to 24053763\n",
            "Data columns (total 4 columns):\n",
            " #   Column    Dtype \n",
            "---  ------    ----- \n",
            " 0   movie_id  int64 \n",
            " 1   user_id   int64 \n",
            " 2   rating    int64 \n",
            " 3   date      object\n",
            "dtypes: int64(3), object(1)\n",
            "memory usage: 734.1+ MB\n"
          ],
          "name": "stdout"
        }
      ]
    },
    {
      "cell_type": "code",
      "metadata": {
        "id": "gIJ_9z0eVSFB"
      },
      "source": [
        "\r\n",
        "downloaded = drive.CreateFile({'id':\"1itsUsGkkBfBGTA5VGZy1-CoeGKAxcLJ5\"})   # replace the id with id of file you want to access\r\n",
        "downloaded.GetContentFile('movie_titles.csv')  \r\n",
        "\r\n"
      ],
      "execution_count": 16,
      "outputs": []
    },
    {
      "cell_type": "code",
      "metadata": {
        "colab": {
          "base_uri": "https://localhost:8080/",
          "height": 204
        },
        "id": "QGxac3NNVv7t",
        "outputId": "8dd64542-1958-4ae4-9f06-9ca91bf599b6"
      },
      "source": [
        "movies_list = pd.read_csv('movie_titles.csv',header = None, names=['movie_id','release_year','title'], encoding = \"iso8859_2\")\r\n",
        "\r\n",
        "movies_list.head()"
      ],
      "execution_count": 17,
      "outputs": [
        {
          "output_type": "execute_result",
          "data": {
            "text/html": [
              "<div>\n",
              "<style scoped>\n",
              "    .dataframe tbody tr th:only-of-type {\n",
              "        vertical-align: middle;\n",
              "    }\n",
              "\n",
              "    .dataframe tbody tr th {\n",
              "        vertical-align: top;\n",
              "    }\n",
              "\n",
              "    .dataframe thead th {\n",
              "        text-align: right;\n",
              "    }\n",
              "</style>\n",
              "<table border=\"1\" class=\"dataframe\">\n",
              "  <thead>\n",
              "    <tr style=\"text-align: right;\">\n",
              "      <th></th>\n",
              "      <th>movie_id</th>\n",
              "      <th>release_year</th>\n",
              "      <th>title</th>\n",
              "    </tr>\n",
              "  </thead>\n",
              "  <tbody>\n",
              "    <tr>\n",
              "      <th>0</th>\n",
              "      <td>1</td>\n",
              "      <td>2003.0</td>\n",
              "      <td>Dinosaur Planet</td>\n",
              "    </tr>\n",
              "    <tr>\n",
              "      <th>1</th>\n",
              "      <td>2</td>\n",
              "      <td>2004.0</td>\n",
              "      <td>Isle of Man TT 2004 Review</td>\n",
              "    </tr>\n",
              "    <tr>\n",
              "      <th>2</th>\n",
              "      <td>3</td>\n",
              "      <td>1997.0</td>\n",
              "      <td>Character</td>\n",
              "    </tr>\n",
              "    <tr>\n",
              "      <th>3</th>\n",
              "      <td>4</td>\n",
              "      <td>1994.0</td>\n",
              "      <td>Paula Abdul's Get Up &amp; Dance</td>\n",
              "    </tr>\n",
              "    <tr>\n",
              "      <th>4</th>\n",
              "      <td>5</td>\n",
              "      <td>2004.0</td>\n",
              "      <td>The Rise and Fall of ECW</td>\n",
              "    </tr>\n",
              "  </tbody>\n",
              "</table>\n",
              "</div>"
            ],
            "text/plain": [
              "   movie_id  release_year                         title\n",
              "0         1        2003.0               Dinosaur Planet\n",
              "1         2        2004.0    Isle of Man TT 2004 Review\n",
              "2         3        1997.0                     Character\n",
              "3         4        1994.0  Paula Abdul's Get Up & Dance\n",
              "4         5        2004.0      The Rise and Fall of ECW"
            ]
          },
          "metadata": {
            "tags": []
          },
          "execution_count": 17
        }
      ]
    },
    {
      "cell_type": "code",
      "metadata": {
        "colab": {
          "base_uri": "https://localhost:8080/"
        },
        "id": "u68zd0FrXKz2",
        "outputId": "6bb52bdf-05ca-49c4-f88e-de0bae8fa983"
      },
      "source": [
        "movies_list.info() # 17770  Movies' details present in movies_list file"
      ],
      "execution_count": 18,
      "outputs": [
        {
          "output_type": "stream",
          "text": [
            "<class 'pandas.core.frame.DataFrame'>\n",
            "RangeIndex: 17770 entries, 0 to 17769\n",
            "Data columns (total 3 columns):\n",
            " #   Column        Non-Null Count  Dtype  \n",
            "---  ------        --------------  -----  \n",
            " 0   movie_id      17770 non-null  int64  \n",
            " 1   release_year  17763 non-null  float64\n",
            " 2   title         17770 non-null  object \n",
            "dtypes: float64(1), int64(1), object(1)\n",
            "memory usage: 416.6+ KB\n"
          ],
          "name": "stdout"
        }
      ]
    },
    {
      "cell_type": "code",
      "metadata": {
        "colab": {
          "base_uri": "https://localhost:8080/",
          "height": 204
        },
        "id": "6rI2-_WwXtW8",
        "outputId": "cdf62ef1-fa47-480d-8524-03957e4b1d43"
      },
      "source": [
        "movies_usrratings = pd.merge(df,movies_list, on = 'movie_id')\r\n",
        "\r\n",
        "movies_usrratings.head()"
      ],
      "execution_count": 19,
      "outputs": [
        {
          "output_type": "execute_result",
          "data": {
            "text/html": [
              "<div>\n",
              "<style scoped>\n",
              "    .dataframe tbody tr th:only-of-type {\n",
              "        vertical-align: middle;\n",
              "    }\n",
              "\n",
              "    .dataframe tbody tr th {\n",
              "        vertical-align: top;\n",
              "    }\n",
              "\n",
              "    .dataframe thead th {\n",
              "        text-align: right;\n",
              "    }\n",
              "</style>\n",
              "<table border=\"1\" class=\"dataframe\">\n",
              "  <thead>\n",
              "    <tr style=\"text-align: right;\">\n",
              "      <th></th>\n",
              "      <th>movie_id</th>\n",
              "      <th>user_id</th>\n",
              "      <th>rating</th>\n",
              "      <th>date</th>\n",
              "      <th>release_year</th>\n",
              "      <th>title</th>\n",
              "    </tr>\n",
              "  </thead>\n",
              "  <tbody>\n",
              "    <tr>\n",
              "      <th>0</th>\n",
              "      <td>1</td>\n",
              "      <td>1488844</td>\n",
              "      <td>3</td>\n",
              "      <td>2005-09-06</td>\n",
              "      <td>2003.0</td>\n",
              "      <td>Dinosaur Planet</td>\n",
              "    </tr>\n",
              "    <tr>\n",
              "      <th>1</th>\n",
              "      <td>1</td>\n",
              "      <td>822109</td>\n",
              "      <td>5</td>\n",
              "      <td>2005-05-13</td>\n",
              "      <td>2003.0</td>\n",
              "      <td>Dinosaur Planet</td>\n",
              "    </tr>\n",
              "    <tr>\n",
              "      <th>2</th>\n",
              "      <td>1</td>\n",
              "      <td>885013</td>\n",
              "      <td>4</td>\n",
              "      <td>2005-10-19</td>\n",
              "      <td>2003.0</td>\n",
              "      <td>Dinosaur Planet</td>\n",
              "    </tr>\n",
              "    <tr>\n",
              "      <th>3</th>\n",
              "      <td>1</td>\n",
              "      <td>30878</td>\n",
              "      <td>4</td>\n",
              "      <td>2005-12-26</td>\n",
              "      <td>2003.0</td>\n",
              "      <td>Dinosaur Planet</td>\n",
              "    </tr>\n",
              "    <tr>\n",
              "      <th>4</th>\n",
              "      <td>1</td>\n",
              "      <td>823519</td>\n",
              "      <td>3</td>\n",
              "      <td>2004-05-03</td>\n",
              "      <td>2003.0</td>\n",
              "      <td>Dinosaur Planet</td>\n",
              "    </tr>\n",
              "  </tbody>\n",
              "</table>\n",
              "</div>"
            ],
            "text/plain": [
              "   movie_id  user_id  rating        date  release_year            title\n",
              "0         1  1488844       3  2005-09-06        2003.0  Dinosaur Planet\n",
              "1         1   822109       5  2005-05-13        2003.0  Dinosaur Planet\n",
              "2         1   885013       4  2005-10-19        2003.0  Dinosaur Planet\n",
              "3         1    30878       4  2005-12-26        2003.0  Dinosaur Planet\n",
              "4         1   823519       3  2004-05-03        2003.0  Dinosaur Planet"
            ]
          },
          "metadata": {
            "tags": []
          },
          "execution_count": 19
        }
      ]
    },
    {
      "cell_type": "code",
      "metadata": {
        "colab": {
          "base_uri": "https://localhost:8080/"
        },
        "id": "sKqiuigoZgSC",
        "outputId": "263a87b1-564f-4608-ebde-cd9fdab80781"
      },
      "source": [
        "#check if there are null values\r\n",
        "\r\n",
        "movies_usrratings.isnull().sum()\r\n",
        "#null values in year of release column can be ignored "
      ],
      "execution_count": 20,
      "outputs": [
        {
          "output_type": "execute_result",
          "data": {
            "text/plain": [
              "movie_id          0\n",
              "user_id           0\n",
              "rating            0\n",
              "date              0\n",
              "release_year    189\n",
              "title             0\n",
              "dtype: int64"
            ]
          },
          "metadata": {
            "tags": []
          },
          "execution_count": 20
        }
      ]
    },
    {
      "cell_type": "code",
      "metadata": {
        "colab": {
          "base_uri": "https://localhost:8080/"
        },
        "id": "BULWoE3zZ1md",
        "outputId": "7944e0fc-a2a2-43de-a52a-7fc421d1e389"
      },
      "source": [
        "movies_usrratings['movie_id'].nunique()"
      ],
      "execution_count": 21,
      "outputs": [
        {
          "output_type": "execute_result",
          "data": {
            "text/plain": [
              "4499"
            ]
          },
          "metadata": {
            "tags": []
          },
          "execution_count": 21
        }
      ]
    },
    {
      "cell_type": "code",
      "metadata": {
        "colab": {
          "base_uri": "https://localhost:8080/"
        },
        "id": "t3ocbTGdadUN",
        "outputId": "5a20ccd4-1cc0-437e-fbef-3c330593e173"
      },
      "source": [
        "movies_usrratings.info() # 24053764 rows"
      ],
      "execution_count": 22,
      "outputs": [
        {
          "output_type": "stream",
          "text": [
            "<class 'pandas.core.frame.DataFrame'>\n",
            "Int64Index: 24053764 entries, 0 to 24053763\n",
            "Data columns (total 6 columns):\n",
            " #   Column        Dtype  \n",
            "---  ------        -----  \n",
            " 0   movie_id      int64  \n",
            " 1   user_id       int64  \n",
            " 2   rating        int64  \n",
            " 3   date          object \n",
            " 4   release_year  float64\n",
            " 5   title         object \n",
            "dtypes: float64(1), int64(3), object(2)\n",
            "memory usage: 1.3+ GB\n"
          ],
          "name": "stdout"
        }
      ]
    },
    {
      "cell_type": "code",
      "metadata": {
        "colab": {
          "base_uri": "https://localhost:8080/"
        },
        "id": "sNRBX0MYgW4g",
        "outputId": "67266971-eb67-462e-a757-94d528392303"
      },
      "source": [
        "movies_usrratings['movie_id'].nunique() # 4499\r\n",
        "movies_usrratings['user_id'].nunique() # 470758\r\n",
        "movies_usrratings['rating'].nunique() # 5\r\n",
        "\r\n"
      ],
      "execution_count": 23,
      "outputs": [
        {
          "output_type": "execute_result",
          "data": {
            "text/plain": [
              "5"
            ]
          },
          "metadata": {
            "tags": []
          },
          "execution_count": 23
        }
      ]
    },
    {
      "cell_type": "code",
      "metadata": {
        "colab": {
          "base_uri": "https://localhost:8080/"
        },
        "id": "Vmv-__Pzhrjb",
        "outputId": "dd7d9f69-7e8c-45cb-8fa6-caee775ad98a"
      },
      "source": [
        "len(df[df['rating'] == 5]) # 1118186, 2439073, 6904181, 8085741, 5506583"
      ],
      "execution_count": 24,
      "outputs": [
        {
          "output_type": "execute_result",
          "data": {
            "text/plain": [
              "5506583"
            ]
          },
          "metadata": {
            "tags": []
          },
          "execution_count": 24
        }
      ]
    },
    {
      "cell_type": "code",
      "metadata": {
        "colab": {
          "base_uri": "https://localhost:8080/",
          "height": 706
        },
        "id": "Bzyyl-mLkEJj",
        "outputId": "156d8e92-bab2-46d5-f3ac-10b0a36f3e81"
      },
      "source": [
        "import seaborn as sns\r\n",
        "import matplotlib.pyplot as plt\r\n",
        "\r\n",
        "plt.figure(figsize = (20,10))\r\n",
        "ax = sns.countplot(x='rating', data=movies_usrratings)\r\n",
        "\r\n",
        "for p in ax.patches:\r\n",
        "  print(p.get_height(),p.get_x(), p.get_width(), (p.get_x() + p.get_width()))\r\n",
        "  ax.annotate(format(p.get_height(), '.2f'), (p.get_x() + p.get_width() / 2., p.get_height()), ha = 'center', va = 'center', xytext = (0, 10), textcoords = 'offset points')\r\n",
        "\r\n",
        "plt.title(\"Distribution of ratings\")\r\n",
        "plt.xlabel(\"Ratings\")\r\n",
        "plt.ylabel(\"Number of Ratings\")\r\n",
        "plt.show()\r\n",
        "\r\n",
        "#The distribution of ratings"
      ],
      "execution_count": 25,
      "outputs": [
        {
          "output_type": "stream",
          "text": [
            "1118186 -0.4 0.8 0.4\n",
            "2439073 0.6 0.8 1.4\n",
            "6904181 1.6 0.8 2.4000000000000004\n",
            "8085741 2.6 0.8 3.4000000000000004\n",
            "5506583 3.6 0.8 4.4\n"
          ],
          "name": "stdout"
        },
        {
          "output_type": "display_data",
          "data": {
            "image/png": "[encoded data removed]",
            "text/plain": [
              "<Figure size 1440x720 with 1 Axes>"
            ]
          },
          "metadata": {
            "tags": [],
            "needs_background": "light"
          }
        }
      ]
    },
    {
      "cell_type": "code",
      "metadata": {
        "colab": {
          "base_uri": "https://localhost:8080/"
        },
        "id": "MNJ1SN2XkvdJ",
        "outputId": "24cd8ea3-a316-4aa5-d5d4-d850a2f34192"
      },
      "source": [
        "# Calculate the average(mean) rating for each movie\r\n",
        "movies_usrratings.groupby('title',axis=0)['rating'].mean()\r\n"
      ],
      "execution_count": 26,
      "outputs": [
        {
          "output_type": "execute_result",
          "data": {
            "text/plain": [
              "title\n",
              "'N Sync: 'N the Mix            2.655936\n",
              "'N Sync: PopOdyssey Live       3.413043\n",
              "... And God Spoke              2.872222\n",
              "10                             3.127638\n",
              "10 Minute Solution: Pilates    3.171779\n",
              "                                 ...   \n",
              "Zig Zag: Special Edition       2.791016\n",
              "Zigzag                         1.768293\n",
              "Zombie 3                       2.380368\n",
              "Zorro                          3.337117\n",
              "s-Cry-ed                       4.105263\n",
              "Name: rating, Length: 4471, dtype: float64"
            ]
          },
          "metadata": {
            "tags": []
          },
          "execution_count": 26
        }
      ]
    },
    {
      "cell_type": "code",
      "metadata": {
        "colab": {
          "base_uri": "https://localhost:8080/"
        },
        "id": "fIRtc6HOqRvJ",
        "outputId": "3a5e7333-3bad-479f-ecd1-5f4775b9edc4"
      },
      "source": [
        "# the movies are not sorted according to the average rating values\r\n",
        "\r\n",
        "movies_usrratings.groupby('title',axis=0)['rating'].mean().sort_values(ascending= False).head()\r\n",
        "\r\n"
      ],
      "execution_count": 27,
      "outputs": [
        {
          "output_type": "execute_result",
          "data": {
            "text/plain": [
              "title\n",
              "Lost: Season 1                                                                 4.670989\n",
              "Ghost in the Shell: Stand Alone Complex: 2nd Gig                               4.586364\n",
              "The Simpsons: Season 6                                                         4.581296\n",
              "Inu-Yasha                                                                      4.554434\n",
              "Lord of the Rings: The Return of the King: Extended Edition: Bonus Material    4.552000\n",
              "Name: rating, dtype: float64"
            ]
          },
          "metadata": {
            "tags": []
          },
          "execution_count": 27
        }
      ]
    },
    {
      "cell_type": "code",
      "metadata": {
        "colab": {
          "base_uri": "https://localhost:8080/"
        },
        "id": "kyGUM1pVqoaU",
        "outputId": "52c2acb1-4fda-401f-efd3-bcf8f145fd85"
      },
      "source": [
        "# But what if only single user rated any given movie, say the Lost:Season1  was rated as 4.6 by only 1 user, then this order of rating will be wrong. Hence, we need to consider the number of ratings(count) that a given movie receives.\r\n",
        "movies_usrratings.groupby('title')['rating'].count()\r\n",
        "\r\n"
      ],
      "execution_count": 28,
      "outputs": [
        {
          "output_type": "execute_result",
          "data": {
            "text/plain": [
              "title\n",
              "'N Sync: 'N the Mix             497\n",
              "'N Sync: PopOdyssey Live         92\n",
              "... And God Spoke               180\n",
              "10                             4928\n",
              "10 Minute Solution: Pilates     163\n",
              "                               ... \n",
              "Zig Zag: Special Edition        512\n",
              "Zigzag                           82\n",
              "Zombie 3                        163\n",
              "Zorro                          2026\n",
              "s-Cry-ed                        817\n",
              "Name: rating, Length: 4471, dtype: int64"
            ]
          },
          "metadata": {
            "tags": []
          },
          "execution_count": 28
        }
      ]
    },
    {
      "cell_type": "code",
      "metadata": {
        "colab": {
          "base_uri": "https://localhost:8080/"
        },
        "id": "6TKUxLMtsLTi",
        "outputId": "5224e116-ebd6-4031-cd88-42dd8cb99bc4"
      },
      "source": [
        "#Sort the movies according to the numer of ratings received by movies\r\n",
        "movies_usrratings.groupby('title',axis=0)['rating'].count().sort_values(ascending= False).head()\r\n",
        "\r\n",
        "#Pirate of the Caribbean movies has the most number of ratings given by users"
      ],
      "execution_count": 29,
      "outputs": [
        {
          "output_type": "execute_result",
          "data": {
            "text/plain": [
              "title\n",
              "Pirates of the Caribbean: The Curse of the Black Pearl    193941\n",
              "What Women Want                                           162597\n",
              "Bruce Almighty                                            160454\n",
              "The Italian Job                                           156183\n",
              "American Beauty                                           154832\n",
              "Name: rating, dtype: int64"
            ]
          },
          "metadata": {
            "tags": []
          },
          "execution_count": 29
        }
      ]
    },
    {
      "cell_type": "code",
      "metadata": {
        "colab": {
          "base_uri": "https://localhost:8080/",
          "height": 235
        },
        "id": "l1-F1eA7sS64",
        "outputId": "66e28fb3-62da-40bf-c061-c8672c41cbaa"
      },
      "source": [
        "#Let's create a dataframe to include the above two factors - mean or average rating of each movie and number of ratings for each movie\r\n",
        "\r\n",
        "mean_count_movies = pd.DataFrame(movies_usrratings.groupby('title')['rating'].mean())\r\n",
        "mean_count_movies.head()"
      ],
      "execution_count": 30,
      "outputs": [
        {
          "output_type": "execute_result",
          "data": {
            "text/html": [
              "<div>\n",
              "<style scoped>\n",
              "    .dataframe tbody tr th:only-of-type {\n",
              "        vertical-align: middle;\n",
              "    }\n",
              "\n",
              "    .dataframe tbody tr th {\n",
              "        vertical-align: top;\n",
              "    }\n",
              "\n",
              "    .dataframe thead th {\n",
              "        text-align: right;\n",
              "    }\n",
              "</style>\n",
              "<table border=\"1\" class=\"dataframe\">\n",
              "  <thead>\n",
              "    <tr style=\"text-align: right;\">\n",
              "      <th></th>\n",
              "      <th>rating</th>\n",
              "    </tr>\n",
              "    <tr>\n",
              "      <th>title</th>\n",
              "      <th></th>\n",
              "    </tr>\n",
              "  </thead>\n",
              "  <tbody>\n",
              "    <tr>\n",
              "      <th>'N Sync: 'N the Mix</th>\n",
              "      <td>2.655936</td>\n",
              "    </tr>\n",
              "    <tr>\n",
              "      <th>'N Sync: PopOdyssey Live</th>\n",
              "      <td>3.413043</td>\n",
              "    </tr>\n",
              "    <tr>\n",
              "      <th>... And God Spoke</th>\n",
              "      <td>2.872222</td>\n",
              "    </tr>\n",
              "    <tr>\n",
              "      <th>10</th>\n",
              "      <td>3.127638</td>\n",
              "    </tr>\n",
              "    <tr>\n",
              "      <th>10 Minute Solution: Pilates</th>\n",
              "      <td>3.171779</td>\n",
              "    </tr>\n",
              "  </tbody>\n",
              "</table>\n",
              "</div>"
            ],
            "text/plain": [
              "                               rating\n",
              "title                                \n",
              "'N Sync: 'N the Mix          2.655936\n",
              "'N Sync: PopOdyssey Live     3.413043\n",
              "... And God Spoke            2.872222\n",
              "10                           3.127638\n",
              "10 Minute Solution: Pilates  3.171779"
            ]
          },
          "metadata": {
            "tags": []
          },
          "execution_count": 30
        }
      ]
    },
    {
      "cell_type": "code",
      "metadata": {
        "colab": {
          "base_uri": "https://localhost:8080/",
          "height": 235
        },
        "id": "5PVPwsnttbCG",
        "outputId": "98d35098-e155-4f2e-dc69-dedc5a892d61"
      },
      "source": [
        "mean_count_movies['count'] = pd.DataFrame(movies_usrratings.groupby('title')['rating'].count())\r\n",
        "mean_count_movies.head()"
      ],
      "execution_count": 31,
      "outputs": [
        {
          "output_type": "execute_result",
          "data": {
            "text/html": [
              "<div>\n",
              "<style scoped>\n",
              "    .dataframe tbody tr th:only-of-type {\n",
              "        vertical-align: middle;\n",
              "    }\n",
              "\n",
              "    .dataframe tbody tr th {\n",
              "        vertical-align: top;\n",
              "    }\n",
              "\n",
              "    .dataframe thead th {\n",
              "        text-align: right;\n",
              "    }\n",
              "</style>\n",
              "<table border=\"1\" class=\"dataframe\">\n",
              "  <thead>\n",
              "    <tr style=\"text-align: right;\">\n",
              "      <th></th>\n",
              "      <th>rating</th>\n",
              "      <th>count</th>\n",
              "    </tr>\n",
              "    <tr>\n",
              "      <th>title</th>\n",
              "      <th></th>\n",
              "      <th></th>\n",
              "    </tr>\n",
              "  </thead>\n",
              "  <tbody>\n",
              "    <tr>\n",
              "      <th>'N Sync: 'N the Mix</th>\n",
              "      <td>2.655936</td>\n",
              "      <td>497</td>\n",
              "    </tr>\n",
              "    <tr>\n",
              "      <th>'N Sync: PopOdyssey Live</th>\n",
              "      <td>3.413043</td>\n",
              "      <td>92</td>\n",
              "    </tr>\n",
              "    <tr>\n",
              "      <th>... And God Spoke</th>\n",
              "      <td>2.872222</td>\n",
              "      <td>180</td>\n",
              "    </tr>\n",
              "    <tr>\n",
              "      <th>10</th>\n",
              "      <td>3.127638</td>\n",
              "      <td>4928</td>\n",
              "    </tr>\n",
              "    <tr>\n",
              "      <th>10 Minute Solution: Pilates</th>\n",
              "      <td>3.171779</td>\n",
              "      <td>163</td>\n",
              "    </tr>\n",
              "  </tbody>\n",
              "</table>\n",
              "</div>"
            ],
            "text/plain": [
              "                               rating  count\n",
              "title                                       \n",
              "'N Sync: 'N the Mix          2.655936    497\n",
              "'N Sync: PopOdyssey Live     3.413043     92\n",
              "... And God Spoke            2.872222    180\n",
              "10                           3.127638   4928\n",
              "10 Minute Solution: Pilates  3.171779    163"
            ]
          },
          "metadata": {
            "tags": []
          },
          "execution_count": 31
        }
      ]
    },
    {
      "cell_type": "code",
      "metadata": {
        "colab": {
          "base_uri": "https://localhost:8080/",
          "height": 607
        },
        "id": "BNJFqZe2uT0L",
        "outputId": "79f7e948-c7b2-4874-89ca-9746410a28f1"
      },
      "source": [
        "#Plot histogram for the ratings count \r\n",
        "plt.figure(figsize= (30,10))\r\n",
        "#plt.xlim(0,5000)\r\n",
        "plt.grid()\r\n",
        "plt.hist(mean_count_movies['count'],bins=500,edgecolor='black')\r\n",
        "plt.title(\"Rating count\")\r\n",
        "plt.show()\r\n",
        "\r\n",
        "\r\n",
        "\r\n",
        "\r\n"
      ],
      "execution_count": 32,
      "outputs": [
        {
          "output_type": "display_data",
          "data": {
            "image/png": "[encoded data removed]",
            "text/plain": [
              "<Figure size 2160x720 with 1 Axes>"
            ]
          },
          "metadata": {
            "tags": [],
            "needs_background": "light"
          }
        }
      ]
    },
    {
      "cell_type": "code",
      "metadata": {
        "colab": {
          "base_uri": "https://localhost:8080/",
          "height": 607
        },
        "id": "PJRuqNE_unxX",
        "outputId": "bc22ed60-65db-438f-b77d-12ee281e5a78"
      },
      "source": [
        "#Plot histogram for the ratings count \r\n",
        "plt.figure(figsize= (20,10))\r\n",
        "#plt.grid()\r\n",
        "plt.hist(mean_count_movies['rating'],bins=50, edgecolor = 'black')\r\n",
        "plt.title(\"Average Rating count\")\r\n",
        "plt.show()\r\n",
        "\r\n",
        "\r\n",
        "\r\n",
        "\r\n"
      ],
      "execution_count": 33,
      "outputs": [
        {
          "output_type": "display_data",
          "data": {
            "image/png": "[encoded data removed]",
            "text/plain": [
              "<Figure size 1440x720 with 1 Axes>"
            ]
          },
          "metadata": {
            "tags": [],
            "needs_background": "light"
          }
        }
      ]
    },
    {
      "cell_type": "code",
      "metadata": {
        "colab": {
          "base_uri": "https://localhost:8080/",
          "height": 458
        },
        "id": "xNo_qSne_qBG",
        "outputId": "04405c70-f268-458c-831f-b40cc2dcf672"
      },
      "source": [
        "plt.figure(figsize=(30,20))\r\n",
        "sns.jointplot(x='rating',y='count',data=mean_count_movies)\r\n",
        "plt.show()\r\n",
        "#This shows that movies with higher average ratings have high number of ratings. Because a good movie will be watched by many users and hence high ratings will be given by them resulting highest average rating."
      ],
      "execution_count": 34,
      "outputs": [
        {
          "output_type": "display_data",
          "data": {
            "text/plain": [
              "<Figure size 2160x1440 with 0 Axes>"
            ]
          },
          "metadata": {
            "tags": []
          }
        },
        {
          "output_type": "display_data",
          "data": {
            "image/png": "[encoded data removed]",
            "text/plain": [
              "<Figure size 432x432 with 3 Axes>"
            ]
          },
          "metadata": {
            "tags": [],
            "needs_background": "light"
          }
        }
      ]
    },
    {
      "cell_type": "code",
      "metadata": {
        "colab": {
          "base_uri": "https://localhost:8080/",
          "height": 791
        },
        "id": "EWn-YY5OEeC1",
        "outputId": "79c4e397-b8a8-4759-fb3d-bee0ffe7a828"
      },
      "source": [
        "#Top 10 highest rated movies based on average rating\r\n",
        "\r\n",
        "top10avg = mean_count_movies.sort_values('rating', ascending=False).head(10)\r\n",
        "top10avg.reset_index(level=0, inplace=True)\r\n",
        "top10avg.info()\r\n",
        "#movies_usrratings.groupby('title',axis=0)['rating'].mean().sort_values(ascending= False).head(10).bar(legend=True)\r\n",
        "plt.figure(figsize=(30,10))\r\n",
        "sns.barplot(x='title', y='rating', data=top10avg)\r\n",
        "plt.title(\"Top 10 movies based on mean/average rating\")\r\n",
        "plt.show()"
      ],
      "execution_count": 35,
      "outputs": [
        {
          "output_type": "stream",
          "text": [
            "<class 'pandas.core.frame.DataFrame'>\n",
            "RangeIndex: 10 entries, 0 to 9\n",
            "Data columns (total 3 columns):\n",
            " #   Column  Non-Null Count  Dtype  \n",
            "---  ------  --------------  -----  \n",
            " 0   title   10 non-null     object \n",
            " 1   rating  10 non-null     float64\n",
            " 2   count   10 non-null     int64  \n",
            "dtypes: float64(1), int64(1), object(1)\n",
            "memory usage: 368.0+ bytes\n"
          ],
          "name": "stdout"
        },
        {
          "output_type": "display_data",
          "data": {
            "image/png": "[encoded data removed]",
            "text/plain": [
              "<Figure size 2160x720 with 1 Axes>"
            ]
          },
          "metadata": {
            "tags": [],
            "needs_background": "light"
          }
        }
      ]
    },
    {
      "cell_type": "code",
      "metadata": {
        "id": "jvhXPsWRgvoX"
      },
      "source": [
        ""
      ],
      "execution_count": 35,
      "outputs": []
    },
    {
      "cell_type": "code",
      "metadata": {
        "colab": {
          "base_uri": "https://localhost:8080/",
          "height": 297
        },
        "id": "13zSNzvLNevr",
        "outputId": "a671b63e-415d-47e6-9110-394184ad0172"
      },
      "source": [
        "mean_count_movies.describe()"
      ],
      "execution_count": 36,
      "outputs": [
        {
          "output_type": "execute_result",
          "data": {
            "text/html": [
              "<div>\n",
              "<style scoped>\n",
              "    .dataframe tbody tr th:only-of-type {\n",
              "        vertical-align: middle;\n",
              "    }\n",
              "\n",
              "    .dataframe tbody tr th {\n",
              "        vertical-align: top;\n",
              "    }\n",
              "\n",
              "    .dataframe thead th {\n",
              "        text-align: right;\n",
              "    }\n",
              "</style>\n",
              "<table border=\"1\" class=\"dataframe\">\n",
              "  <thead>\n",
              "    <tr style=\"text-align: right;\">\n",
              "      <th></th>\n",
              "      <th>rating</th>\n",
              "      <th>count</th>\n",
              "    </tr>\n",
              "  </thead>\n",
              "  <tbody>\n",
              "    <tr>\n",
              "      <th>count</th>\n",
              "      <td>4471.000000</td>\n",
              "      <td>4471.000000</td>\n",
              "    </tr>\n",
              "    <tr>\n",
              "      <th>mean</th>\n",
              "      <td>3.221216</td>\n",
              "      <td>5379.951689</td>\n",
              "    </tr>\n",
              "    <tr>\n",
              "      <th>std</th>\n",
              "      <td>0.526835</td>\n",
              "      <td>16242.973442</td>\n",
              "    </tr>\n",
              "    <tr>\n",
              "      <th>min</th>\n",
              "      <td>1.287879</td>\n",
              "      <td>36.000000</td>\n",
              "    </tr>\n",
              "    <tr>\n",
              "      <th>25%</th>\n",
              "      <td>2.885797</td>\n",
              "      <td>192.000000</td>\n",
              "    </tr>\n",
              "    <tr>\n",
              "      <th>50%</th>\n",
              "      <td>3.244318</td>\n",
              "      <td>550.000000</td>\n",
              "    </tr>\n",
              "    <tr>\n",
              "      <th>75%</th>\n",
              "      <td>3.597402</td>\n",
              "      <td>2544.000000</td>\n",
              "    </tr>\n",
              "    <tr>\n",
              "      <th>max</th>\n",
              "      <td>4.670989</td>\n",
              "      <td>193941.000000</td>\n",
              "    </tr>\n",
              "  </tbody>\n",
              "</table>\n",
              "</div>"
            ],
            "text/plain": [
              "            rating          count\n",
              "count  4471.000000    4471.000000\n",
              "mean      3.221216    5379.951689\n",
              "std       0.526835   16242.973442\n",
              "min       1.287879      36.000000\n",
              "25%       2.885797     192.000000\n",
              "50%       3.244318     550.000000\n",
              "75%       3.597402    2544.000000\n",
              "max       4.670989  193941.000000"
            ]
          },
          "metadata": {
            "tags": []
          },
          "execution_count": 36
        }
      ]
    },
    {
      "cell_type": "code",
      "metadata": {
        "colab": {
          "base_uri": "https://localhost:8080/"
        },
        "id": "H2OPbOzxIpwg",
        "outputId": "8a985393-757a-4058-a228-95d19bd3066a"
      },
      "source": [
        "# Due to memory issue, we need to drop some data form the dataframe.\r\n",
        "# 1. Remove movies whihc has less number of ratings\r\n",
        "# 2. remove non-active users i.e., who haven't rated any movies or rated less number of movies\r\n",
        "f=['count','mean']\r\n",
        "movie_summary = movies_usrratings.groupby('movie_id')['rating'].agg(f)\r\n",
        "movie_summary.index = movie_summary.index.map(int)\r\n",
        "movie_benchmark = round(movie_summary['count'].quantile(0.7),0)\r\n",
        "movie_benchmark\r\n",
        "#Minimum number of reviews for movies\r\n",
        "\r\n"
      ],
      "execution_count": 37,
      "outputs": [
        {
          "output_type": "execute_result",
          "data": {
            "text/plain": [
              "1799.0"
            ]
          },
          "metadata": {
            "tags": []
          },
          "execution_count": 37
        }
      ]
    },
    {
      "cell_type": "code",
      "metadata": {
        "colab": {
          "base_uri": "https://localhost:8080/"
        },
        "id": "e25TbEA-zq5J",
        "outputId": "53425960-4dd3-47a9-a8c8-654755514f24"
      },
      "source": [
        "movie_benchmark"
      ],
      "execution_count": 38,
      "outputs": [
        {
          "output_type": "execute_result",
          "data": {
            "text/plain": [
              "1799.0"
            ]
          },
          "metadata": {
            "tags": []
          },
          "execution_count": 38
        }
      ]
    },
    {
      "cell_type": "code",
      "metadata": {
        "id": "QsckaX9hxSC_",
        "colab": {
          "base_uri": "https://localhost:8080/"
        },
        "outputId": "4fa2e4c6-c522-4052-b4bb-c18eaa85771e"
      },
      "source": [
        "drop_movies = movie_summary.loc[movie_summary['count'] < movie_benchmark].index\r\n",
        "drop_movies"
      ],
      "execution_count": 39,
      "outputs": [
        {
          "output_type": "execute_result",
          "data": {
            "text/plain": [
              "Int64Index([   1,    2,    4,    5,    6,    7,    9,   10,   11,   12,\n",
              "            ...\n",
              "            4484, 4486, 4487, 4489, 4491, 4494, 4495, 4497, 4498, 4499],\n",
              "           dtype='int64', name='movie_id', length=3149)"
            ]
          },
          "metadata": {
            "tags": []
          },
          "execution_count": 39
        }
      ]
    },
    {
      "cell_type": "code",
      "metadata": {
        "colab": {
          "base_uri": "https://localhost:8080/"
        },
        "id": "Q9H-C23nOEeO",
        "outputId": "fcaf85c5-4425-4df1-fa78-dc9dad96109e"
      },
      "source": [
        "user_summary = movies_usrratings.groupby('user_id')['rating'].agg(f)\r\n",
        "\r\n",
        "user_summary.index = user_summary.index.map(int)\r\n",
        "user_benchmark = round(user_summary['count'].quantile(0.7),0)\r\n",
        "user_benchmark\r\n",
        "#Minimum number of reviews by customer\r\n",
        "\r\n",
        "\r\n",
        "#user_summary['count'].quantile(0.25)#8.0\r\n",
        "#user_summary['count'].quantile(0.5)#24\r\n",
        "#user_summary['count'].quantile(0.75)#64\r\n",
        "\r\n"
      ],
      "execution_count": 40,
      "outputs": [
        {
          "output_type": "execute_result",
          "data": {
            "text/plain": [
              "52.0"
            ]
          },
          "metadata": {
            "tags": []
          },
          "execution_count": 40
        }
      ]
    },
    {
      "cell_type": "code",
      "metadata": {
        "id": "hDMaomZ41vcH"
      },
      "source": [
        "drop_users = user_summary.loc[user_summary['count']<user_benchmark].index"
      ],
      "execution_count": 41,
      "outputs": []
    },
    {
      "cell_type": "code",
      "metadata": {
        "colab": {
          "base_uri": "https://localhost:8080/"
        },
        "id": "eCwQfdn8wWj9",
        "outputId": "f27dece2-dd40-49e9-9905-b09ab6f33eba"
      },
      "source": [
        "user_summary.info()"
      ],
      "execution_count": 42,
      "outputs": [
        {
          "output_type": "stream",
          "text": [
            "<class 'pandas.core.frame.DataFrame'>\n",
            "Int64Index: 470758 entries, 6 to 2649429\n",
            "Data columns (total 2 columns):\n",
            " #   Column  Non-Null Count   Dtype  \n",
            "---  ------  --------------   -----  \n",
            " 0   count   470758 non-null  int64  \n",
            " 1   mean    470758 non-null  float64\n",
            "dtypes: float64(1), int64(1)\n",
            "memory usage: 10.8 MB\n"
          ],
          "name": "stdout"
        }
      ]
    },
    {
      "cell_type": "code",
      "metadata": {
        "id": "JZ19uIbtwXJc",
        "colab": {
          "base_uri": "https://localhost:8080/"
        },
        "outputId": "00c63209-f938-46fb-9da2-61d057b2861a"
      },
      "source": [
        "movies_usrratings = movies_usrratings[~ movies_usrratings['movie_id'].isin (drop_movies)]\r\n",
        "movies_usrratings = movies_usrratings[~ movies_usrratings['user_id'].isin (drop_users)]\r\n",
        "movies_usrratings.info()"
      ],
      "execution_count": 43,
      "outputs": [
        {
          "output_type": "stream",
          "text": [
            "<class 'pandas.core.frame.DataFrame'>\n",
            "Int64Index: 17337458 entries, 693 to 24052350\n",
            "Data columns (total 6 columns):\n",
            " #   Column        Dtype  \n",
            "---  ------        -----  \n",
            " 0   movie_id      int64  \n",
            " 1   user_id       int64  \n",
            " 2   rating        int64  \n",
            " 3   date          object \n",
            " 4   release_year  float64\n",
            " 5   title         object \n",
            "dtypes: float64(1), int64(3), object(2)\n",
            "memory usage: 925.9+ MB\n"
          ],
          "name": "stdout"
        }
      ]
    },
    {
      "cell_type": "code",
      "metadata": {
        "colab": {
          "base_uri": "https://localhost:8080/",
          "height": 204
        },
        "id": "EAvdUFgJ3qeR",
        "outputId": "fa288212-12a5-46aa-8443-7ea468febf2c"
      },
      "source": [
        "movies_usrratings.head()"
      ],
      "execution_count": 44,
      "outputs": [
        {
          "output_type": "execute_result",
          "data": {
            "text/html": [
              "<div>\n",
              "<style scoped>\n",
              "    .dataframe tbody tr th:only-of-type {\n",
              "        vertical-align: middle;\n",
              "    }\n",
              "\n",
              "    .dataframe tbody tr th {\n",
              "        vertical-align: top;\n",
              "    }\n",
              "\n",
              "    .dataframe thead th {\n",
              "        text-align: right;\n",
              "    }\n",
              "</style>\n",
              "<table border=\"1\" class=\"dataframe\">\n",
              "  <thead>\n",
              "    <tr style=\"text-align: right;\">\n",
              "      <th></th>\n",
              "      <th>movie_id</th>\n",
              "      <th>user_id</th>\n",
              "      <th>rating</th>\n",
              "      <th>date</th>\n",
              "      <th>release_year</th>\n",
              "      <th>title</th>\n",
              "    </tr>\n",
              "  </thead>\n",
              "  <tbody>\n",
              "    <tr>\n",
              "      <th>693</th>\n",
              "      <td>3</td>\n",
              "      <td>712664</td>\n",
              "      <td>5</td>\n",
              "      <td>2004-02-01</td>\n",
              "      <td>1997.0</td>\n",
              "      <td>Character</td>\n",
              "    </tr>\n",
              "    <tr>\n",
              "      <th>694</th>\n",
              "      <td>3</td>\n",
              "      <td>1331154</td>\n",
              "      <td>4</td>\n",
              "      <td>2004-07-03</td>\n",
              "      <td>1997.0</td>\n",
              "      <td>Character</td>\n",
              "    </tr>\n",
              "    <tr>\n",
              "      <th>695</th>\n",
              "      <td>3</td>\n",
              "      <td>2632461</td>\n",
              "      <td>3</td>\n",
              "      <td>2005-07-22</td>\n",
              "      <td>1997.0</td>\n",
              "      <td>Character</td>\n",
              "    </tr>\n",
              "    <tr>\n",
              "      <th>696</th>\n",
              "      <td>3</td>\n",
              "      <td>44937</td>\n",
              "      <td>5</td>\n",
              "      <td>2004-06-22</td>\n",
              "      <td>1997.0</td>\n",
              "      <td>Character</td>\n",
              "    </tr>\n",
              "    <tr>\n",
              "      <th>697</th>\n",
              "      <td>3</td>\n",
              "      <td>656399</td>\n",
              "      <td>4</td>\n",
              "      <td>2003-09-20</td>\n",
              "      <td>1997.0</td>\n",
              "      <td>Character</td>\n",
              "    </tr>\n",
              "  </tbody>\n",
              "</table>\n",
              "</div>"
            ],
            "text/plain": [
              "     movie_id  user_id  rating        date  release_year      title\n",
              "693         3   712664       5  2004-02-01        1997.0  Character\n",
              "694         3  1331154       4  2004-07-03        1997.0  Character\n",
              "695         3  2632461       3  2005-07-22        1997.0  Character\n",
              "696         3    44937       5  2004-06-22        1997.0  Character\n",
              "697         3   656399       4  2003-09-20        1997.0  Character"
            ]
          },
          "metadata": {
            "tags": []
          },
          "execution_count": 44
        }
      ]
    },
    {
      "cell_type": "code",
      "metadata": {
        "id": "JjzUPWMt3qpF"
      },
      "source": [
        ""
      ],
      "execution_count": 44,
      "outputs": []
    },
    {
      "cell_type": "markdown",
      "metadata": {
        "id": "gQQxqm0eBs4v"
      },
      "source": [
        "## **Content-Based Filtering Approach - Calculate Similarity between the movies using Pearson's Correlation method**"
      ]
    },
    {
      "cell_type": "code",
      "metadata": {
        "id": "dJ192FJtBiPR"
      },
      "source": [
        "# We need to create a user-movie matrix to find the correlation between the movies.\r\n",
        "#rows - users\r\n",
        "#columns - movies\r\n",
        "#observations - rating for the movie given by the user\r\n",
        "\r\n",
        "user_movie_matrix = movies_usrratings.pivot_table(index='user_id', columns = 'title', values='rating')\r\n",
        "\r\n",
        "#user_movie_matrix.head()\r\n",
        "\r\n"
      ],
      "execution_count": 45,
      "outputs": []
    },
    {
      "cell_type": "code",
      "metadata": {
        "colab": {
          "base_uri": "https://localhost:8080/",
          "height": 386
        },
        "id": "9UeOBCTE4VLd",
        "outputId": "082c4f6f-5587-420f-bd17-abd4f650eca8"
      },
      "source": [
        "user_movie_matrix.head()"
      ],
      "execution_count": 46,
      "outputs": [
        {
          "output_type": "execute_result",
          "data": {
            "text/html": [
              "<div>\n",
              "<style scoped>\n",
              "    .dataframe tbody tr th:only-of-type {\n",
              "        vertical-align: middle;\n",
              "    }\n",
              "\n",
              "    .dataframe tbody tr th {\n",
              "        vertical-align: top;\n",
              "    }\n",
              "\n",
              "    .dataframe thead th {\n",
              "        text-align: right;\n",
              "    }\n",
              "</style>\n",
              "<table border=\"1\" class=\"dataframe\">\n",
              "  <thead>\n",
              "    <tr style=\"text-align: right;\">\n",
              "      <th>title</th>\n",
              "      <th>10</th>\n",
              "      <th>10 Things I Hate About You</th>\n",
              "      <th>101 Dalmatians II: Patch's London Adventure</th>\n",
              "      <th>11:14</th>\n",
              "      <th>13 Ghosts</th>\n",
              "      <th>18 Again</th>\n",
              "      <th>1984</th>\n",
              "      <th>2 Fast 2 Furious</th>\n",
              "      <th>200 Cigarettes</th>\n",
              "      <th>2010: The Year We Make Contact</th>\n",
              "      <th>24 Hour Party People</th>\n",
              "      <th>25th Hour</th>\n",
              "      <th>28 Days Later</th>\n",
              "      <th>50 First Dates</th>\n",
              "      <th>7 Seconds</th>\n",
              "      <th>9 1/2 Weeks</th>\n",
              "      <th>A Beautiful Mind</th>\n",
              "      <th>A Better Tomorrow II</th>\n",
              "      <th>A Christmas Carol</th>\n",
              "      <th>A Cinderella Story</th>\n",
              "      <th>A Dirty Shame</th>\n",
              "      <th>A Fistful of Dollars</th>\n",
              "      <th>A Guy Thing</th>\n",
              "      <th>A Hard Day's Night: Collector's Series</th>\n",
              "      <th>A Home of Our Own</th>\n",
              "      <th>A Lesson Before Dying</th>\n",
              "      <th>A Little Princess</th>\n",
              "      <th>A Love Song for Bobby Long</th>\n",
              "      <th>A Man Apart</th>\n",
              "      <th>A Mighty Wind</th>\n",
              "      <th>A Night at the Opera</th>\n",
              "      <th>A Nightmare on Elm Street</th>\n",
              "      <th>A Nightmare on Elm Street 3: Dream Warriors</th>\n",
              "      <th>A Streetcar Named Desire</th>\n",
              "      <th>A Thousand Acres</th>\n",
              "      <th>A Walk in the Clouds</th>\n",
              "      <th>ABC Primetime: Mel Gibson's The Passion of the Christ</th>\n",
              "      <th>Abandon</th>\n",
              "      <th>Abbott &amp; Costello Meet the Mummy</th>\n",
              "      <th>About Adam</th>\n",
              "      <th>...</th>\n",
              "      <th>Walking with Dinosaurs</th>\n",
              "      <th>Wallace &amp; Gromit in Three Amazing Adventures</th>\n",
              "      <th>War Games</th>\n",
              "      <th>Wayne's World</th>\n",
              "      <th>Westworld</th>\n",
              "      <th>Whale Rider</th>\n",
              "      <th>What Women Want</th>\n",
              "      <th>What the #$*! Do We Know!?</th>\n",
              "      <th>What's Up</th>\n",
              "      <th>When Harry Met Sally</th>\n",
              "      <th>Where Eagles Dare</th>\n",
              "      <th>Where the Red Fern Grows</th>\n",
              "      <th>While You Were Sleeping</th>\n",
              "      <th>White</th>\n",
              "      <th>White Squall</th>\n",
              "      <th>Who Framed Roger Rabbit?: Special Edition</th>\n",
              "      <th>Who is Cletis Tout?</th>\n",
              "      <th>Wild Things</th>\n",
              "      <th>Wings of Desire</th>\n",
              "      <th>Winnie the Pooh: Springtime with Roo</th>\n",
              "      <th>With a Friend Like Harry</th>\n",
              "      <th>Without a Trace: Season 1</th>\n",
              "      <th>Wolf</th>\n",
              "      <th>Woman Thou Art Loosed</th>\n",
              "      <th>Woman of the Year</th>\n",
              "      <th>Woman on Top</th>\n",
              "      <th>Wonder Boys</th>\n",
              "      <th>Wonderfalls: The Complete Series</th>\n",
              "      <th>Wrongfully Accused</th>\n",
              "      <th>X2: X-Men United</th>\n",
              "      <th>Xena: Warrior Princess: Season 3</th>\n",
              "      <th>Xena: Warrior Princess: Series Finale</th>\n",
              "      <th>Y Tu Mama Tambien</th>\n",
              "      <th>Yellow Submarine</th>\n",
              "      <th>Yi Yi</th>\n",
              "      <th>Yojimbo</th>\n",
              "      <th>Young Black Stallion</th>\n",
              "      <th>Youngblood</th>\n",
              "      <th>Yu-Gi-Oh!: The Movie</th>\n",
              "      <th>Zorro</th>\n",
              "    </tr>\n",
              "    <tr>\n",
              "      <th>user_id</th>\n",
              "      <th></th>\n",
              "      <th></th>\n",
              "      <th></th>\n",
              "      <th></th>\n",
              "      <th></th>\n",
              "      <th></th>\n",
              "      <th></th>\n",
              "      <th></th>\n",
              "      <th></th>\n",
              "      <th></th>\n",
              "      <th></th>\n",
              "      <th></th>\n",
              "      <th></th>\n",
              "      <th></th>\n",
              "      <th></th>\n",
              "      <th></th>\n",
              "      <th></th>\n",
              "      <th></th>\n",
              "      <th></th>\n",
              "      <th></th>\n",
              "      <th></th>\n",
              "      <th></th>\n",
              "      <th></th>\n",
              "      <th></th>\n",
              "      <th></th>\n",
              "      <th></th>\n",
              "      <th></th>\n",
              "      <th></th>\n",
              "      <th></th>\n",
              "      <th></th>\n",
              "      <th></th>\n",
              "      <th></th>\n",
              "      <th></th>\n",
              "      <th></th>\n",
              "      <th></th>\n",
              "      <th></th>\n",
              "      <th></th>\n",
              "      <th></th>\n",
              "      <th></th>\n",
              "      <th></th>\n",
              "      <th></th>\n",
              "      <th></th>\n",
              "      <th></th>\n",
              "      <th></th>\n",
              "      <th></th>\n",
              "      <th></th>\n",
              "      <th></th>\n",
              "      <th></th>\n",
              "      <th></th>\n",
              "      <th></th>\n",
              "      <th></th>\n",
              "      <th></th>\n",
              "      <th></th>\n",
              "      <th></th>\n",
              "      <th></th>\n",
              "      <th></th>\n",
              "      <th></th>\n",
              "      <th></th>\n",
              "      <th></th>\n",
              "      <th></th>\n",
              "      <th></th>\n",
              "      <th></th>\n",
              "      <th></th>\n",
              "      <th></th>\n",
              "      <th></th>\n",
              "      <th></th>\n",
              "      <th></th>\n",
              "      <th></th>\n",
              "      <th></th>\n",
              "      <th></th>\n",
              "      <th></th>\n",
              "      <th></th>\n",
              "      <th></th>\n",
              "      <th></th>\n",
              "      <th></th>\n",
              "      <th></th>\n",
              "      <th></th>\n",
              "      <th></th>\n",
              "      <th></th>\n",
              "      <th></th>\n",
              "      <th></th>\n",
              "    </tr>\n",
              "  </thead>\n",
              "  <tbody>\n",
              "    <tr>\n",
              "      <th>6</th>\n",
              "      <td>NaN</td>\n",
              "      <td>NaN</td>\n",
              "      <td>NaN</td>\n",
              "      <td>NaN</td>\n",
              "      <td>NaN</td>\n",
              "      <td>NaN</td>\n",
              "      <td>4.0</td>\n",
              "      <td>NaN</td>\n",
              "      <td>NaN</td>\n",
              "      <td>NaN</td>\n",
              "      <td>NaN</td>\n",
              "      <td>NaN</td>\n",
              "      <td>2.0</td>\n",
              "      <td>4.0</td>\n",
              "      <td>NaN</td>\n",
              "      <td>NaN</td>\n",
              "      <td>3.0</td>\n",
              "      <td>NaN</td>\n",
              "      <td>NaN</td>\n",
              "      <td>NaN</td>\n",
              "      <td>NaN</td>\n",
              "      <td>4.0</td>\n",
              "      <td>NaN</td>\n",
              "      <td>NaN</td>\n",
              "      <td>NaN</td>\n",
              "      <td>NaN</td>\n",
              "      <td>NaN</td>\n",
              "      <td>NaN</td>\n",
              "      <td>NaN</td>\n",
              "      <td>NaN</td>\n",
              "      <td>NaN</td>\n",
              "      <td>NaN</td>\n",
              "      <td>NaN</td>\n",
              "      <td>NaN</td>\n",
              "      <td>NaN</td>\n",
              "      <td>NaN</td>\n",
              "      <td>NaN</td>\n",
              "      <td>NaN</td>\n",
              "      <td>NaN</td>\n",
              "      <td>NaN</td>\n",
              "      <td>...</td>\n",
              "      <td>NaN</td>\n",
              "      <td>NaN</td>\n",
              "      <td>NaN</td>\n",
              "      <td>NaN</td>\n",
              "      <td>NaN</td>\n",
              "      <td>NaN</td>\n",
              "      <td>3.0</td>\n",
              "      <td>NaN</td>\n",
              "      <td>NaN</td>\n",
              "      <td>3.0</td>\n",
              "      <td>4.0</td>\n",
              "      <td>NaN</td>\n",
              "      <td>NaN</td>\n",
              "      <td>NaN</td>\n",
              "      <td>NaN</td>\n",
              "      <td>3.0</td>\n",
              "      <td>NaN</td>\n",
              "      <td>NaN</td>\n",
              "      <td>NaN</td>\n",
              "      <td>NaN</td>\n",
              "      <td>NaN</td>\n",
              "      <td>NaN</td>\n",
              "      <td>NaN</td>\n",
              "      <td>NaN</td>\n",
              "      <td>NaN</td>\n",
              "      <td>NaN</td>\n",
              "      <td>NaN</td>\n",
              "      <td>NaN</td>\n",
              "      <td>NaN</td>\n",
              "      <td>2.0</td>\n",
              "      <td>NaN</td>\n",
              "      <td>NaN</td>\n",
              "      <td>NaN</td>\n",
              "      <td>NaN</td>\n",
              "      <td>NaN</td>\n",
              "      <td>NaN</td>\n",
              "      <td>NaN</td>\n",
              "      <td>NaN</td>\n",
              "      <td>NaN</td>\n",
              "      <td>NaN</td>\n",
              "    </tr>\n",
              "    <tr>\n",
              "      <th>7</th>\n",
              "      <td>NaN</td>\n",
              "      <td>NaN</td>\n",
              "      <td>NaN</td>\n",
              "      <td>NaN</td>\n",
              "      <td>NaN</td>\n",
              "      <td>NaN</td>\n",
              "      <td>NaN</td>\n",
              "      <td>3.0</td>\n",
              "      <td>NaN</td>\n",
              "      <td>NaN</td>\n",
              "      <td>NaN</td>\n",
              "      <td>NaN</td>\n",
              "      <td>NaN</td>\n",
              "      <td>5.0</td>\n",
              "      <td>NaN</td>\n",
              "      <td>5.0</td>\n",
              "      <td>5.0</td>\n",
              "      <td>NaN</td>\n",
              "      <td>NaN</td>\n",
              "      <td>NaN</td>\n",
              "      <td>NaN</td>\n",
              "      <td>NaN</td>\n",
              "      <td>NaN</td>\n",
              "      <td>NaN</td>\n",
              "      <td>NaN</td>\n",
              "      <td>NaN</td>\n",
              "      <td>NaN</td>\n",
              "      <td>NaN</td>\n",
              "      <td>NaN</td>\n",
              "      <td>NaN</td>\n",
              "      <td>NaN</td>\n",
              "      <td>NaN</td>\n",
              "      <td>NaN</td>\n",
              "      <td>5.0</td>\n",
              "      <td>NaN</td>\n",
              "      <td>4.0</td>\n",
              "      <td>NaN</td>\n",
              "      <td>NaN</td>\n",
              "      <td>NaN</td>\n",
              "      <td>NaN</td>\n",
              "      <td>...</td>\n",
              "      <td>NaN</td>\n",
              "      <td>NaN</td>\n",
              "      <td>4.0</td>\n",
              "      <td>4.0</td>\n",
              "      <td>NaN</td>\n",
              "      <td>5.0</td>\n",
              "      <td>3.0</td>\n",
              "      <td>5.0</td>\n",
              "      <td>NaN</td>\n",
              "      <td>5.0</td>\n",
              "      <td>NaN</td>\n",
              "      <td>NaN</td>\n",
              "      <td>5.0</td>\n",
              "      <td>NaN</td>\n",
              "      <td>NaN</td>\n",
              "      <td>4.0</td>\n",
              "      <td>NaN</td>\n",
              "      <td>NaN</td>\n",
              "      <td>NaN</td>\n",
              "      <td>NaN</td>\n",
              "      <td>NaN</td>\n",
              "      <td>NaN</td>\n",
              "      <td>NaN</td>\n",
              "      <td>NaN</td>\n",
              "      <td>NaN</td>\n",
              "      <td>NaN</td>\n",
              "      <td>NaN</td>\n",
              "      <td>NaN</td>\n",
              "      <td>NaN</td>\n",
              "      <td>4.0</td>\n",
              "      <td>NaN</td>\n",
              "      <td>NaN</td>\n",
              "      <td>NaN</td>\n",
              "      <td>NaN</td>\n",
              "      <td>NaN</td>\n",
              "      <td>NaN</td>\n",
              "      <td>NaN</td>\n",
              "      <td>NaN</td>\n",
              "      <td>NaN</td>\n",
              "      <td>NaN</td>\n",
              "    </tr>\n",
              "    <tr>\n",
              "      <th>79</th>\n",
              "      <td>NaN</td>\n",
              "      <td>NaN</td>\n",
              "      <td>3.0</td>\n",
              "      <td>NaN</td>\n",
              "      <td>NaN</td>\n",
              "      <td>NaN</td>\n",
              "      <td>NaN</td>\n",
              "      <td>2.0</td>\n",
              "      <td>NaN</td>\n",
              "      <td>NaN</td>\n",
              "      <td>NaN</td>\n",
              "      <td>NaN</td>\n",
              "      <td>NaN</td>\n",
              "      <td>5.0</td>\n",
              "      <td>NaN</td>\n",
              "      <td>NaN</td>\n",
              "      <td>4.0</td>\n",
              "      <td>NaN</td>\n",
              "      <td>NaN</td>\n",
              "      <td>5.0</td>\n",
              "      <td>NaN</td>\n",
              "      <td>NaN</td>\n",
              "      <td>NaN</td>\n",
              "      <td>NaN</td>\n",
              "      <td>NaN</td>\n",
              "      <td>NaN</td>\n",
              "      <td>NaN</td>\n",
              "      <td>NaN</td>\n",
              "      <td>NaN</td>\n",
              "      <td>NaN</td>\n",
              "      <td>NaN</td>\n",
              "      <td>NaN</td>\n",
              "      <td>NaN</td>\n",
              "      <td>NaN</td>\n",
              "      <td>NaN</td>\n",
              "      <td>NaN</td>\n",
              "      <td>NaN</td>\n",
              "      <td>NaN</td>\n",
              "      <td>NaN</td>\n",
              "      <td>NaN</td>\n",
              "      <td>...</td>\n",
              "      <td>NaN</td>\n",
              "      <td>NaN</td>\n",
              "      <td>4.0</td>\n",
              "      <td>4.0</td>\n",
              "      <td>NaN</td>\n",
              "      <td>NaN</td>\n",
              "      <td>3.0</td>\n",
              "      <td>NaN</td>\n",
              "      <td>NaN</td>\n",
              "      <td>5.0</td>\n",
              "      <td>NaN</td>\n",
              "      <td>NaN</td>\n",
              "      <td>5.0</td>\n",
              "      <td>NaN</td>\n",
              "      <td>NaN</td>\n",
              "      <td>NaN</td>\n",
              "      <td>NaN</td>\n",
              "      <td>NaN</td>\n",
              "      <td>NaN</td>\n",
              "      <td>NaN</td>\n",
              "      <td>NaN</td>\n",
              "      <td>NaN</td>\n",
              "      <td>NaN</td>\n",
              "      <td>NaN</td>\n",
              "      <td>NaN</td>\n",
              "      <td>NaN</td>\n",
              "      <td>NaN</td>\n",
              "      <td>NaN</td>\n",
              "      <td>NaN</td>\n",
              "      <td>4.0</td>\n",
              "      <td>NaN</td>\n",
              "      <td>NaN</td>\n",
              "      <td>NaN</td>\n",
              "      <td>NaN</td>\n",
              "      <td>NaN</td>\n",
              "      <td>NaN</td>\n",
              "      <td>NaN</td>\n",
              "      <td>NaN</td>\n",
              "      <td>3.0</td>\n",
              "      <td>NaN</td>\n",
              "    </tr>\n",
              "    <tr>\n",
              "      <th>97</th>\n",
              "      <td>NaN</td>\n",
              "      <td>NaN</td>\n",
              "      <td>NaN</td>\n",
              "      <td>NaN</td>\n",
              "      <td>NaN</td>\n",
              "      <td>NaN</td>\n",
              "      <td>NaN</td>\n",
              "      <td>NaN</td>\n",
              "      <td>NaN</td>\n",
              "      <td>NaN</td>\n",
              "      <td>NaN</td>\n",
              "      <td>NaN</td>\n",
              "      <td>NaN</td>\n",
              "      <td>NaN</td>\n",
              "      <td>NaN</td>\n",
              "      <td>NaN</td>\n",
              "      <td>5.0</td>\n",
              "      <td>NaN</td>\n",
              "      <td>NaN</td>\n",
              "      <td>NaN</td>\n",
              "      <td>NaN</td>\n",
              "      <td>NaN</td>\n",
              "      <td>NaN</td>\n",
              "      <td>NaN</td>\n",
              "      <td>NaN</td>\n",
              "      <td>NaN</td>\n",
              "      <td>NaN</td>\n",
              "      <td>NaN</td>\n",
              "      <td>NaN</td>\n",
              "      <td>NaN</td>\n",
              "      <td>NaN</td>\n",
              "      <td>NaN</td>\n",
              "      <td>NaN</td>\n",
              "      <td>NaN</td>\n",
              "      <td>NaN</td>\n",
              "      <td>NaN</td>\n",
              "      <td>NaN</td>\n",
              "      <td>NaN</td>\n",
              "      <td>NaN</td>\n",
              "      <td>NaN</td>\n",
              "      <td>...</td>\n",
              "      <td>NaN</td>\n",
              "      <td>NaN</td>\n",
              "      <td>NaN</td>\n",
              "      <td>NaN</td>\n",
              "      <td>NaN</td>\n",
              "      <td>5.0</td>\n",
              "      <td>3.0</td>\n",
              "      <td>NaN</td>\n",
              "      <td>NaN</td>\n",
              "      <td>5.0</td>\n",
              "      <td>NaN</td>\n",
              "      <td>NaN</td>\n",
              "      <td>1.0</td>\n",
              "      <td>NaN</td>\n",
              "      <td>NaN</td>\n",
              "      <td>NaN</td>\n",
              "      <td>NaN</td>\n",
              "      <td>NaN</td>\n",
              "      <td>NaN</td>\n",
              "      <td>NaN</td>\n",
              "      <td>NaN</td>\n",
              "      <td>NaN</td>\n",
              "      <td>NaN</td>\n",
              "      <td>NaN</td>\n",
              "      <td>NaN</td>\n",
              "      <td>NaN</td>\n",
              "      <td>NaN</td>\n",
              "      <td>NaN</td>\n",
              "      <td>NaN</td>\n",
              "      <td>NaN</td>\n",
              "      <td>NaN</td>\n",
              "      <td>3.0</td>\n",
              "      <td>NaN</td>\n",
              "      <td>NaN</td>\n",
              "      <td>NaN</td>\n",
              "      <td>NaN</td>\n",
              "      <td>NaN</td>\n",
              "      <td>NaN</td>\n",
              "      <td>NaN</td>\n",
              "      <td>NaN</td>\n",
              "    </tr>\n",
              "    <tr>\n",
              "      <th>134</th>\n",
              "      <td>NaN</td>\n",
              "      <td>5.0</td>\n",
              "      <td>NaN</td>\n",
              "      <td>NaN</td>\n",
              "      <td>NaN</td>\n",
              "      <td>NaN</td>\n",
              "      <td>NaN</td>\n",
              "      <td>5.0</td>\n",
              "      <td>NaN</td>\n",
              "      <td>NaN</td>\n",
              "      <td>NaN</td>\n",
              "      <td>NaN</td>\n",
              "      <td>3.0</td>\n",
              "      <td>4.0</td>\n",
              "      <td>NaN</td>\n",
              "      <td>5.0</td>\n",
              "      <td>NaN</td>\n",
              "      <td>NaN</td>\n",
              "      <td>NaN</td>\n",
              "      <td>NaN</td>\n",
              "      <td>NaN</td>\n",
              "      <td>NaN</td>\n",
              "      <td>NaN</td>\n",
              "      <td>NaN</td>\n",
              "      <td>NaN</td>\n",
              "      <td>NaN</td>\n",
              "      <td>NaN</td>\n",
              "      <td>NaN</td>\n",
              "      <td>5.0</td>\n",
              "      <td>NaN</td>\n",
              "      <td>NaN</td>\n",
              "      <td>NaN</td>\n",
              "      <td>NaN</td>\n",
              "      <td>NaN</td>\n",
              "      <td>NaN</td>\n",
              "      <td>NaN</td>\n",
              "      <td>NaN</td>\n",
              "      <td>NaN</td>\n",
              "      <td>NaN</td>\n",
              "      <td>NaN</td>\n",
              "      <td>...</td>\n",
              "      <td>NaN</td>\n",
              "      <td>NaN</td>\n",
              "      <td>NaN</td>\n",
              "      <td>5.0</td>\n",
              "      <td>NaN</td>\n",
              "      <td>NaN</td>\n",
              "      <td>5.0</td>\n",
              "      <td>NaN</td>\n",
              "      <td>NaN</td>\n",
              "      <td>5.0</td>\n",
              "      <td>NaN</td>\n",
              "      <td>NaN</td>\n",
              "      <td>5.0</td>\n",
              "      <td>NaN</td>\n",
              "      <td>NaN</td>\n",
              "      <td>NaN</td>\n",
              "      <td>NaN</td>\n",
              "      <td>5.0</td>\n",
              "      <td>NaN</td>\n",
              "      <td>NaN</td>\n",
              "      <td>NaN</td>\n",
              "      <td>NaN</td>\n",
              "      <td>NaN</td>\n",
              "      <td>NaN</td>\n",
              "      <td>NaN</td>\n",
              "      <td>NaN</td>\n",
              "      <td>NaN</td>\n",
              "      <td>NaN</td>\n",
              "      <td>5.0</td>\n",
              "      <td>5.0</td>\n",
              "      <td>NaN</td>\n",
              "      <td>NaN</td>\n",
              "      <td>NaN</td>\n",
              "      <td>NaN</td>\n",
              "      <td>NaN</td>\n",
              "      <td>NaN</td>\n",
              "      <td>NaN</td>\n",
              "      <td>NaN</td>\n",
              "      <td>NaN</td>\n",
              "      <td>NaN</td>\n",
              "    </tr>\n",
              "  </tbody>\n",
              "</table>\n",
              "<p>5 rows × 1342 columns</p>\n",
              "</div>"
            ],
            "text/plain": [
              "title    10  10 Things I Hate About You  ...  Yu-Gi-Oh!: The Movie  Zorro\n",
              "user_id                                  ...                             \n",
              "6       NaN                         NaN  ...                   NaN    NaN\n",
              "7       NaN                         NaN  ...                   NaN    NaN\n",
              "79      NaN                         NaN  ...                   3.0    NaN\n",
              "97      NaN                         NaN  ...                   NaN    NaN\n",
              "134     NaN                         5.0  ...                   NaN    NaN\n",
              "\n",
              "[5 rows x 1342 columns]"
            ]
          },
          "metadata": {
            "tags": []
          },
          "execution_count": 46
        }
      ]
    },
    {
      "cell_type": "code",
      "metadata": {
        "id": "250w6LE7C-x7",
        "colab": {
          "base_uri": "https://localhost:8080/"
        },
        "outputId": "cc9eccdd-2673-4572-c023-3fe30c3e9121"
      },
      "source": [
        "# Let's us find the ratings for the movie \"X2: X-Men United\"\r\n",
        "\r\n",
        "xmen_ratings = user_movie_matrix['X2: X-Men United']\r\n",
        "xmen_ratings.head()"
      ],
      "execution_count": 47,
      "outputs": [
        {
          "output_type": "execute_result",
          "data": {
            "text/plain": [
              "user_id\n",
              "6      2.0\n",
              "7      4.0\n",
              "79     4.0\n",
              "97     NaN\n",
              "134    5.0\n",
              "Name: X2: X-Men United, dtype: float64"
            ]
          },
          "metadata": {
            "tags": []
          },
          "execution_count": 47
        }
      ]
    },
    {
      "cell_type": "code",
      "metadata": {
        "colab": {
          "base_uri": "https://localhost:8080/"
        },
        "id": "zWE0q_kq7l-y",
        "outputId": "8454bee6-8f91-4f5e-d666-cc0c7111f696"
      },
      "source": [
        "# Returns a list of ratings given by various users for X-men movie in a pandas series\r\n",
        "\r\n",
        "# We will find the list of movies that are similar to X-men United movie by using correlation method\r\n",
        "\r\n",
        "movies_like_xmen = user_movie_matrix.corrwith(xmen_ratings)\r\n",
        "\r\n",
        "movies_like_xmen.head() # This gives list of movies similar to xmen movie along with its correlation value. Closer to 1 indicates highest similarity\r\n",
        "\r\n",
        "\r\n"
      ],
      "execution_count": 48,
      "outputs": [
        {
          "output_type": "execute_result",
          "data": {
            "text/plain": [
              "title\n",
              "10                                             0.142181\n",
              "10 Things I Hate About You                     0.226436\n",
              "101 Dalmatians II: Patch's London Adventure    0.230097\n",
              "11:14                                          0.130894\n",
              "13 Ghosts                                      0.256033\n",
              "dtype: float64"
            ]
          },
          "metadata": {
            "tags": []
          },
          "execution_count": 48
        }
      ]
    },
    {
      "cell_type": "code",
      "metadata": {
        "colab": {
          "base_uri": "https://localhost:8080/",
          "height": 235
        },
        "id": "lLfjFefa8VAS",
        "outputId": "b67d329a-fb55-4753-b8a8-038aa817efba"
      },
      "source": [
        "#we can store the above in a dataframe\r\n",
        "\r\n",
        "corr_x_men = pd.DataFrame(movies_like_xmen, columns=['Correlation'])\r\n",
        "corr_x_men.head()\r\n"
      ],
      "execution_count": 49,
      "outputs": [
        {
          "output_type": "execute_result",
          "data": {
            "text/html": [
              "<div>\n",
              "<style scoped>\n",
              "    .dataframe tbody tr th:only-of-type {\n",
              "        vertical-align: middle;\n",
              "    }\n",
              "\n",
              "    .dataframe tbody tr th {\n",
              "        vertical-align: top;\n",
              "    }\n",
              "\n",
              "    .dataframe thead th {\n",
              "        text-align: right;\n",
              "    }\n",
              "</style>\n",
              "<table border=\"1\" class=\"dataframe\">\n",
              "  <thead>\n",
              "    <tr style=\"text-align: right;\">\n",
              "      <th></th>\n",
              "      <th>Correlation</th>\n",
              "    </tr>\n",
              "    <tr>\n",
              "      <th>title</th>\n",
              "      <th></th>\n",
              "    </tr>\n",
              "  </thead>\n",
              "  <tbody>\n",
              "    <tr>\n",
              "      <th>10</th>\n",
              "      <td>0.142181</td>\n",
              "    </tr>\n",
              "    <tr>\n",
              "      <th>10 Things I Hate About You</th>\n",
              "      <td>0.226436</td>\n",
              "    </tr>\n",
              "    <tr>\n",
              "      <th>101 Dalmatians II: Patch's London Adventure</th>\n",
              "      <td>0.230097</td>\n",
              "    </tr>\n",
              "    <tr>\n",
              "      <th>11:14</th>\n",
              "      <td>0.130894</td>\n",
              "    </tr>\n",
              "    <tr>\n",
              "      <th>13 Ghosts</th>\n",
              "      <td>0.256033</td>\n",
              "    </tr>\n",
              "  </tbody>\n",
              "</table>\n",
              "</div>"
            ],
            "text/plain": [
              "                                             Correlation\n",
              "title                                                   \n",
              "10                                              0.142181\n",
              "10 Things I Hate About You                      0.226436\n",
              "101 Dalmatians II: Patch's London Adventure     0.230097\n",
              "11:14                                           0.130894\n",
              "13 Ghosts                                       0.256033"
            ]
          },
          "metadata": {
            "tags": []
          },
          "execution_count": 49
        }
      ]
    },
    {
      "cell_type": "code",
      "metadata": {
        "colab": {
          "base_uri": "https://localhost:8080/",
          "height": 390
        },
        "id": "QEh29aZq9Ptn",
        "outputId": "bab5581a-1b15-420a-f670-f1aee73a3b4f"
      },
      "source": [
        "#sorting the movies in the decreasing order of correlation values\r\n",
        "\r\n",
        "corr_x_men.sort_values('Correlation', inplace=True, ascending=False)\r\n",
        "corr_x_men.head(10)"
      ],
      "execution_count": 50,
      "outputs": [
        {
          "output_type": "execute_result",
          "data": {
            "text/html": [
              "<div>\n",
              "<style scoped>\n",
              "    .dataframe tbody tr th:only-of-type {\n",
              "        vertical-align: middle;\n",
              "    }\n",
              "\n",
              "    .dataframe tbody tr th {\n",
              "        vertical-align: top;\n",
              "    }\n",
              "\n",
              "    .dataframe thead th {\n",
              "        text-align: right;\n",
              "    }\n",
              "</style>\n",
              "<table border=\"1\" class=\"dataframe\">\n",
              "  <thead>\n",
              "    <tr style=\"text-align: right;\">\n",
              "      <th></th>\n",
              "      <th>Correlation</th>\n",
              "    </tr>\n",
              "    <tr>\n",
              "      <th>title</th>\n",
              "      <th></th>\n",
              "    </tr>\n",
              "  </thead>\n",
              "  <tbody>\n",
              "    <tr>\n",
              "      <th>X2: X-Men United</th>\n",
              "      <td>1.000000</td>\n",
              "    </tr>\n",
              "    <tr>\n",
              "      <th>Batman Beyond: The Movie</th>\n",
              "      <td>0.384550</td>\n",
              "    </tr>\n",
              "    <tr>\n",
              "      <th>Justice League</th>\n",
              "      <td>0.375967</td>\n",
              "    </tr>\n",
              "    <tr>\n",
              "      <th>Justice League: Justice on Trial</th>\n",
              "      <td>0.361393</td>\n",
              "    </tr>\n",
              "    <tr>\n",
              "      <th>Batman Beyond: Return of the Joker</th>\n",
              "      <td>0.338025</td>\n",
              "    </tr>\n",
              "    <tr>\n",
              "      <th>Batman Begins</th>\n",
              "      <td>0.335256</td>\n",
              "    </tr>\n",
              "    <tr>\n",
              "      <th>Batman: Mask of the Phantasm</th>\n",
              "      <td>0.328229</td>\n",
              "    </tr>\n",
              "    <tr>\n",
              "      <th>Batman: The Animated Series: Tales of the Dark Knight</th>\n",
              "      <td>0.327040</td>\n",
              "    </tr>\n",
              "    <tr>\n",
              "      <th>Dragon Ball Z: Super Android 13</th>\n",
              "      <td>0.316666</td>\n",
              "    </tr>\n",
              "    <tr>\n",
              "      <th>Mortal Kombat: The Movie</th>\n",
              "      <td>0.316166</td>\n",
              "    </tr>\n",
              "  </tbody>\n",
              "</table>\n",
              "</div>"
            ],
            "text/plain": [
              "                                                    Correlation\n",
              "title                                                          \n",
              "X2: X-Men United                                       1.000000\n",
              "Batman Beyond: The Movie                               0.384550\n",
              "Justice League                                         0.375967\n",
              "Justice League: Justice on Trial                       0.361393\n",
              "Batman Beyond: Return of the Joker                     0.338025\n",
              "Batman Begins                                          0.335256\n",
              "Batman: Mask of the Phantasm                           0.328229\n",
              "Batman: The Animated Series: Tales of the Dark ...     0.327040\n",
              "Dragon Ball Z: Super Android 13                        0.316666\n",
              "Mortal Kombat: The Movie                               0.316166"
            ]
          },
          "metadata": {
            "tags": []
          },
          "execution_count": 50
        }
      ]
    },
    {
      "cell_type": "code",
      "metadata": {
        "colab": {
          "base_uri": "https://localhost:8080/",
          "height": 235
        },
        "id": "dMHtut6E9q_U",
        "outputId": "21568f3f-9d58-430f-c144-289f6d0a5e25"
      },
      "source": [
        "#we can include count of ratings for these movies and consider only those movies which has been most rated by the users say > 2000 users atleast\r\n",
        "\r\n",
        "corr_x_men = corr_x_men.join(mean_count_movies['count'])\r\n",
        "corr_x_men.head()"
      ],
      "execution_count": 51,
      "outputs": [
        {
          "output_type": "execute_result",
          "data": {
            "text/html": [
              "<div>\n",
              "<style scoped>\n",
              "    .dataframe tbody tr th:only-of-type {\n",
              "        vertical-align: middle;\n",
              "    }\n",
              "\n",
              "    .dataframe tbody tr th {\n",
              "        vertical-align: top;\n",
              "    }\n",
              "\n",
              "    .dataframe thead th {\n",
              "        text-align: right;\n",
              "    }\n",
              "</style>\n",
              "<table border=\"1\" class=\"dataframe\">\n",
              "  <thead>\n",
              "    <tr style=\"text-align: right;\">\n",
              "      <th></th>\n",
              "      <th>Correlation</th>\n",
              "      <th>count</th>\n",
              "    </tr>\n",
              "    <tr>\n",
              "      <th>title</th>\n",
              "      <th></th>\n",
              "      <th></th>\n",
              "    </tr>\n",
              "  </thead>\n",
              "  <tbody>\n",
              "    <tr>\n",
              "      <th>X2: X-Men United</th>\n",
              "      <td>1.000000</td>\n",
              "      <td>98720</td>\n",
              "    </tr>\n",
              "    <tr>\n",
              "      <th>Batman Beyond: The Movie</th>\n",
              "      <td>0.384550</td>\n",
              "      <td>2614</td>\n",
              "    </tr>\n",
              "    <tr>\n",
              "      <th>Justice League</th>\n",
              "      <td>0.375967</td>\n",
              "      <td>3591</td>\n",
              "    </tr>\n",
              "    <tr>\n",
              "      <th>Justice League: Justice on Trial</th>\n",
              "      <td>0.361393</td>\n",
              "      <td>2961</td>\n",
              "    </tr>\n",
              "    <tr>\n",
              "      <th>Batman Beyond: Return of the Joker</th>\n",
              "      <td>0.338025</td>\n",
              "      <td>3704</td>\n",
              "    </tr>\n",
              "  </tbody>\n",
              "</table>\n",
              "</div>"
            ],
            "text/plain": [
              "                                    Correlation  count\n",
              "title                                                 \n",
              "X2: X-Men United                       1.000000  98720\n",
              "Batman Beyond: The Movie               0.384550   2614\n",
              "Justice League                         0.375967   3591\n",
              "Justice League: Justice on Trial       0.361393   2961\n",
              "Batman Beyond: Return of the Joker     0.338025   3704"
            ]
          },
          "metadata": {
            "tags": []
          },
          "execution_count": 51
        }
      ]
    },
    {
      "cell_type": "code",
      "metadata": {
        "colab": {
          "base_uri": "https://localhost:8080/"
        },
        "id": "ev-zrddE-vrz",
        "outputId": "7f44fa62-bdde-42ec-eb3b-ec0eefc075ff"
      },
      "source": [
        "mean_count_movies.head()\r\n",
        "mean_count_movies.info()"
      ],
      "execution_count": 52,
      "outputs": [
        {
          "output_type": "stream",
          "text": [
            "<class 'pandas.core.frame.DataFrame'>\n",
            "Index: 4471 entries, 'N Sync: 'N the Mix to s-Cry-ed\n",
            "Data columns (total 2 columns):\n",
            " #   Column  Non-Null Count  Dtype  \n",
            "---  ------  --------------  -----  \n",
            " 0   rating  4471 non-null   float64\n",
            " 1   count   4471 non-null   int64  \n",
            "dtypes: float64(1), int64(1)\n",
            "memory usage: 264.8+ KB\n"
          ],
          "name": "stdout"
        }
      ]
    },
    {
      "cell_type": "code",
      "metadata": {
        "colab": {
          "base_uri": "https://localhost:8080/"
        },
        "id": "DTPDPLoI-13V",
        "outputId": "7967a367-1225-44c0-f3a2-d3e0acbf392f"
      },
      "source": [
        "mean_count_movies.loc['Silent Service']"
      ],
      "execution_count": 53,
      "outputs": [
        {
          "output_type": "execute_result",
          "data": {
            "text/plain": [
              "rating      2.571429\n",
              "count     105.000000\n",
              "Name: Silent Service, dtype: float64"
            ]
          },
          "metadata": {
            "tags": []
          },
          "execution_count": 53
        }
      ]
    },
    {
      "cell_type": "code",
      "metadata": {
        "colab": {
          "base_uri": "https://localhost:8080/",
          "height": 390
        },
        "id": "rt0Uvvvd_Shk",
        "outputId": "3ce00e6a-c9a9-417c-e2f0-3d2ecee14d8b"
      },
      "source": [
        "corr_x_men[corr_x_men['count']>2000].sort_values('Correlation', ascending=False)\r\n",
        "corr_x_men.head(10)\r\n"
      ],
      "execution_count": 54,
      "outputs": [
        {
          "output_type": "execute_result",
          "data": {
            "text/html": [
              "<div>\n",
              "<style scoped>\n",
              "    .dataframe tbody tr th:only-of-type {\n",
              "        vertical-align: middle;\n",
              "    }\n",
              "\n",
              "    .dataframe tbody tr th {\n",
              "        vertical-align: top;\n",
              "    }\n",
              "\n",
              "    .dataframe thead th {\n",
              "        text-align: right;\n",
              "    }\n",
              "</style>\n",
              "<table border=\"1\" class=\"dataframe\">\n",
              "  <thead>\n",
              "    <tr style=\"text-align: right;\">\n",
              "      <th></th>\n",
              "      <th>Correlation</th>\n",
              "      <th>count</th>\n",
              "    </tr>\n",
              "    <tr>\n",
              "      <th>title</th>\n",
              "      <th></th>\n",
              "      <th></th>\n",
              "    </tr>\n",
              "  </thead>\n",
              "  <tbody>\n",
              "    <tr>\n",
              "      <th>X2: X-Men United</th>\n",
              "      <td>1.000000</td>\n",
              "      <td>98720</td>\n",
              "    </tr>\n",
              "    <tr>\n",
              "      <th>Batman Beyond: The Movie</th>\n",
              "      <td>0.384550</td>\n",
              "      <td>2614</td>\n",
              "    </tr>\n",
              "    <tr>\n",
              "      <th>Justice League</th>\n",
              "      <td>0.375967</td>\n",
              "      <td>3591</td>\n",
              "    </tr>\n",
              "    <tr>\n",
              "      <th>Justice League: Justice on Trial</th>\n",
              "      <td>0.361393</td>\n",
              "      <td>2961</td>\n",
              "    </tr>\n",
              "    <tr>\n",
              "      <th>Batman Beyond: Return of the Joker</th>\n",
              "      <td>0.338025</td>\n",
              "      <td>3704</td>\n",
              "    </tr>\n",
              "    <tr>\n",
              "      <th>Batman Begins</th>\n",
              "      <td>0.335256</td>\n",
              "      <td>54922</td>\n",
              "    </tr>\n",
              "    <tr>\n",
              "      <th>Batman: Mask of the Phantasm</th>\n",
              "      <td>0.328229</td>\n",
              "      <td>2823</td>\n",
              "    </tr>\n",
              "    <tr>\n",
              "      <th>Batman: The Animated Series: Tales of the Dark Knight</th>\n",
              "      <td>0.327040</td>\n",
              "      <td>2432</td>\n",
              "    </tr>\n",
              "    <tr>\n",
              "      <th>Dragon Ball Z: Super Android 13</th>\n",
              "      <td>0.316666</td>\n",
              "      <td>2426</td>\n",
              "    </tr>\n",
              "    <tr>\n",
              "      <th>Mortal Kombat: The Movie</th>\n",
              "      <td>0.316166</td>\n",
              "      <td>7633</td>\n",
              "    </tr>\n",
              "  </tbody>\n",
              "</table>\n",
              "</div>"
            ],
            "text/plain": [
              "                                                    Correlation  count\n",
              "title                                                                 \n",
              "X2: X-Men United                                       1.000000  98720\n",
              "Batman Beyond: The Movie                               0.384550   2614\n",
              "Justice League                                         0.375967   3591\n",
              "Justice League: Justice on Trial                       0.361393   2961\n",
              "Batman Beyond: Return of the Joker                     0.338025   3704\n",
              "Batman Begins                                          0.335256  54922\n",
              "Batman: Mask of the Phantasm                           0.328229   2823\n",
              "Batman: The Animated Series: Tales of the Dark ...     0.327040   2432\n",
              "Dragon Ball Z: Super Android 13                        0.316666   2426\n",
              "Mortal Kombat: The Movie                               0.316166   7633"
            ]
          },
          "metadata": {
            "tags": []
          },
          "execution_count": 54
        }
      ]
    },
    {
      "cell_type": "code",
      "metadata": {
        "id": "j6hi3UBqA6YQ",
        "colab": {
          "base_uri": "https://localhost:8080/",
          "height": 696
        },
        "outputId": "0f1aefe3-d3aa-4273-8cba-b57231a22bea"
      },
      "source": [
        "top10corr = corr_x_men[1:11]\r\n",
        "top10corr.reset_index(inplace=True)\r\n",
        "plt.figure(figsize=(20,8))\r\n",
        "ax = sns.barplot(x='title',y='Correlation', data = top10corr)\r\n",
        "plt.title(\"Top 10 movies recommended by Content-Based Filtering Approach of Recommendation Systems\",fontsize=25)\r\n",
        "plt.xlabel(\"Movies\")\r\n",
        "ax.set_xticklabels(ax.get_xticklabels(), rotation = 40, ha='right')\r\n",
        "\r\n",
        "plt.ylabel(\"Pearson's Correlation Value\")\r\n",
        "plt.show()"
      ],
      "execution_count": 55,
      "outputs": [
        {
          "output_type": "display_data",
          "data": {
            "image/png": "[encoded data removed]",
            "text/plain": [
              "<Figure size 1440x576 with 1 Axes>"
            ]
          },
          "metadata": {
            "tags": [],
            "needs_background": "light"
          }
        }
      ]
    },
    {
      "cell_type": "code",
      "metadata": {
        "id": "XA0HEtGY50rY"
      },
      "source": [
        ""
      ],
      "execution_count": 55,
      "outputs": []
    },
    {
      "cell_type": "markdown",
      "metadata": {
        "id": "-UDXCPou8rsG"
      },
      "source": [
        "## **Content-Based Filtering Approach - Calculate Similarity between the movies using Pearson's Correlation method**"
      ]
    },
    {
      "cell_type": "code",
      "metadata": {
        "id": "NLn6wuE28rsW"
      },
      "source": [
        "# We need to create a user-movie matrix to find the correlation between the movies.\r\n",
        "#rows - users\r\n",
        "#columns - movies\r\n",
        "#observations - rating for the movie given by the user\r\n",
        "\r\n",
        "user_movie_matrix = movies_usrratings.pivot_table(index='user_id', columns = 'title', values='rating')\r\n",
        "\r\n",
        "#user_movie_matrix.head()\r\n",
        "\r\n"
      ],
      "execution_count": 56,
      "outputs": []
    },
    {
      "cell_type": "code",
      "metadata": {
        "colab": {
          "base_uri": "https://localhost:8080/",
          "height": 386
        },
        "id": "8c9iSoHl8rsX",
        "outputId": "722b0622-56fe-4d8e-e727-c188397441ae"
      },
      "source": [
        "user_movie_matrix.head()"
      ],
      "execution_count": 57,
      "outputs": [
        {
          "output_type": "execute_result",
          "data": {
            "text/html": [
              "<div>\n",
              "<style scoped>\n",
              "    .dataframe tbody tr th:only-of-type {\n",
              "        vertical-align: middle;\n",
              "    }\n",
              "\n",
              "    .dataframe tbody tr th {\n",
              "        vertical-align: top;\n",
              "    }\n",
              "\n",
              "    .dataframe thead th {\n",
              "        text-align: right;\n",
              "    }\n",
              "</style>\n",
              "<table border=\"1\" class=\"dataframe\">\n",
              "  <thead>\n",
              "    <tr style=\"text-align: right;\">\n",
              "      <th>title</th>\n",
              "      <th>10</th>\n",
              "      <th>10 Things I Hate About You</th>\n",
              "      <th>101 Dalmatians II: Patch's London Adventure</th>\n",
              "      <th>11:14</th>\n",
              "      <th>13 Ghosts</th>\n",
              "      <th>18 Again</th>\n",
              "      <th>1984</th>\n",
              "      <th>2 Fast 2 Furious</th>\n",
              "      <th>200 Cigarettes</th>\n",
              "      <th>2010: The Year We Make Contact</th>\n",
              "      <th>24 Hour Party People</th>\n",
              "      <th>25th Hour</th>\n",
              "      <th>28 Days Later</th>\n",
              "      <th>50 First Dates</th>\n",
              "      <th>7 Seconds</th>\n",
              "      <th>9 1/2 Weeks</th>\n",
              "      <th>A Beautiful Mind</th>\n",
              "      <th>A Better Tomorrow II</th>\n",
              "      <th>A Christmas Carol</th>\n",
              "      <th>A Cinderella Story</th>\n",
              "      <th>A Dirty Shame</th>\n",
              "      <th>A Fistful of Dollars</th>\n",
              "      <th>A Guy Thing</th>\n",
              "      <th>A Hard Day's Night: Collector's Series</th>\n",
              "      <th>A Home of Our Own</th>\n",
              "      <th>A Lesson Before Dying</th>\n",
              "      <th>A Little Princess</th>\n",
              "      <th>A Love Song for Bobby Long</th>\n",
              "      <th>A Man Apart</th>\n",
              "      <th>A Mighty Wind</th>\n",
              "      <th>A Night at the Opera</th>\n",
              "      <th>A Nightmare on Elm Street</th>\n",
              "      <th>A Nightmare on Elm Street 3: Dream Warriors</th>\n",
              "      <th>A Streetcar Named Desire</th>\n",
              "      <th>A Thousand Acres</th>\n",
              "      <th>A Walk in the Clouds</th>\n",
              "      <th>ABC Primetime: Mel Gibson's The Passion of the Christ</th>\n",
              "      <th>Abandon</th>\n",
              "      <th>Abbott &amp; Costello Meet the Mummy</th>\n",
              "      <th>About Adam</th>\n",
              "      <th>...</th>\n",
              "      <th>Walking with Dinosaurs</th>\n",
              "      <th>Wallace &amp; Gromit in Three Amazing Adventures</th>\n",
              "      <th>War Games</th>\n",
              "      <th>Wayne's World</th>\n",
              "      <th>Westworld</th>\n",
              "      <th>Whale Rider</th>\n",
              "      <th>What Women Want</th>\n",
              "      <th>What the #$*! Do We Know!?</th>\n",
              "      <th>What's Up</th>\n",
              "      <th>When Harry Met Sally</th>\n",
              "      <th>Where Eagles Dare</th>\n",
              "      <th>Where the Red Fern Grows</th>\n",
              "      <th>While You Were Sleeping</th>\n",
              "      <th>White</th>\n",
              "      <th>White Squall</th>\n",
              "      <th>Who Framed Roger Rabbit?: Special Edition</th>\n",
              "      <th>Who is Cletis Tout?</th>\n",
              "      <th>Wild Things</th>\n",
              "      <th>Wings of Desire</th>\n",
              "      <th>Winnie the Pooh: Springtime with Roo</th>\n",
              "      <th>With a Friend Like Harry</th>\n",
              "      <th>Without a Trace: Season 1</th>\n",
              "      <th>Wolf</th>\n",
              "      <th>Woman Thou Art Loosed</th>\n",
              "      <th>Woman of the Year</th>\n",
              "      <th>Woman on Top</th>\n",
              "      <th>Wonder Boys</th>\n",
              "      <th>Wonderfalls: The Complete Series</th>\n",
              "      <th>Wrongfully Accused</th>\n",
              "      <th>X2: X-Men United</th>\n",
              "      <th>Xena: Warrior Princess: Season 3</th>\n",
              "      <th>Xena: Warrior Princess: Series Finale</th>\n",
              "      <th>Y Tu Mama Tambien</th>\n",
              "      <th>Yellow Submarine</th>\n",
              "      <th>Yi Yi</th>\n",
              "      <th>Yojimbo</th>\n",
              "      <th>Young Black Stallion</th>\n",
              "      <th>Youngblood</th>\n",
              "      <th>Yu-Gi-Oh!: The Movie</th>\n",
              "      <th>Zorro</th>\n",
              "    </tr>\n",
              "    <tr>\n",
              "      <th>user_id</th>\n",
              "      <th></th>\n",
              "      <th></th>\n",
              "      <th></th>\n",
              "      <th></th>\n",
              "      <th></th>\n",
              "      <th></th>\n",
              "      <th></th>\n",
              "      <th></th>\n",
              "      <th></th>\n",
              "      <th></th>\n",
              "      <th></th>\n",
              "      <th></th>\n",
              "      <th></th>\n",
              "      <th></th>\n",
              "      <th></th>\n",
              "      <th></th>\n",
              "      <th></th>\n",
              "      <th></th>\n",
              "      <th></th>\n",
              "      <th></th>\n",
              "      <th></th>\n",
              "      <th></th>\n",
              "      <th></th>\n",
              "      <th></th>\n",
              "      <th></th>\n",
              "      <th></th>\n",
              "      <th></th>\n",
              "      <th></th>\n",
              "      <th></th>\n",
              "      <th></th>\n",
              "      <th></th>\n",
              "      <th></th>\n",
              "      <th></th>\n",
              "      <th></th>\n",
              "      <th></th>\n",
              "      <th></th>\n",
              "      <th></th>\n",
              "      <th></th>\n",
              "      <th></th>\n",
              "      <th></th>\n",
              "      <th></th>\n",
              "      <th></th>\n",
              "      <th></th>\n",
              "      <th></th>\n",
              "      <th></th>\n",
              "      <th></th>\n",
              "      <th></th>\n",
              "      <th></th>\n",
              "      <th></th>\n",
              "      <th></th>\n",
              "      <th></th>\n",
              "      <th></th>\n",
              "      <th></th>\n",
              "      <th></th>\n",
              "      <th></th>\n",
              "      <th></th>\n",
              "      <th></th>\n",
              "      <th></th>\n",
              "      <th></th>\n",
              "      <th></th>\n",
              "      <th></th>\n",
              "      <th></th>\n",
              "      <th></th>\n",
              "      <th></th>\n",
              "      <th></th>\n",
              "      <th></th>\n",
              "      <th></th>\n",
              "      <th></th>\n",
              "      <th></th>\n",
              "      <th></th>\n",
              "      <th></th>\n",
              "      <th></th>\n",
              "      <th></th>\n",
              "      <th></th>\n",
              "      <th></th>\n",
              "      <th></th>\n",
              "      <th></th>\n",
              "      <th></th>\n",
              "      <th></th>\n",
              "      <th></th>\n",
              "      <th></th>\n",
              "    </tr>\n",
              "  </thead>\n",
              "  <tbody>\n",
              "    <tr>\n",
              "      <th>6</th>\n",
              "      <td>NaN</td>\n",
              "      <td>NaN</td>\n",
              "      <td>NaN</td>\n",
              "      <td>NaN</td>\n",
              "      <td>NaN</td>\n",
              "      <td>NaN</td>\n",
              "      <td>4.0</td>\n",
              "      <td>NaN</td>\n",
              "      <td>NaN</td>\n",
              "      <td>NaN</td>\n",
              "      <td>NaN</td>\n",
              "      <td>NaN</td>\n",
              "      <td>2.0</td>\n",
              "      <td>4.0</td>\n",
              "      <td>NaN</td>\n",
              "      <td>NaN</td>\n",
              "      <td>3.0</td>\n",
              "      <td>NaN</td>\n",
              "      <td>NaN</td>\n",
              "      <td>NaN</td>\n",
              "      <td>NaN</td>\n",
              "      <td>4.0</td>\n",
              "      <td>NaN</td>\n",
              "      <td>NaN</td>\n",
              "      <td>NaN</td>\n",
              "      <td>NaN</td>\n",
              "      <td>NaN</td>\n",
              "      <td>NaN</td>\n",
              "      <td>NaN</td>\n",
              "      <td>NaN</td>\n",
              "      <td>NaN</td>\n",
              "      <td>NaN</td>\n",
              "      <td>NaN</td>\n",
              "      <td>NaN</td>\n",
              "      <td>NaN</td>\n",
              "      <td>NaN</td>\n",
              "      <td>NaN</td>\n",
              "      <td>NaN</td>\n",
              "      <td>NaN</td>\n",
              "      <td>NaN</td>\n",
              "      <td>...</td>\n",
              "      <td>NaN</td>\n",
              "      <td>NaN</td>\n",
              "      <td>NaN</td>\n",
              "      <td>NaN</td>\n",
              "      <td>NaN</td>\n",
              "      <td>NaN</td>\n",
              "      <td>3.0</td>\n",
              "      <td>NaN</td>\n",
              "      <td>NaN</td>\n",
              "      <td>3.0</td>\n",
              "      <td>4.0</td>\n",
              "      <td>NaN</td>\n",
              "      <td>NaN</td>\n",
              "      <td>NaN</td>\n",
              "      <td>NaN</td>\n",
              "      <td>3.0</td>\n",
              "      <td>NaN</td>\n",
              "      <td>NaN</td>\n",
              "      <td>NaN</td>\n",
              "      <td>NaN</td>\n",
              "      <td>NaN</td>\n",
              "      <td>NaN</td>\n",
              "      <td>NaN</td>\n",
              "      <td>NaN</td>\n",
              "      <td>NaN</td>\n",
              "      <td>NaN</td>\n",
              "      <td>NaN</td>\n",
              "      <td>NaN</td>\n",
              "      <td>NaN</td>\n",
              "      <td>2.0</td>\n",
              "      <td>NaN</td>\n",
              "      <td>NaN</td>\n",
              "      <td>NaN</td>\n",
              "      <td>NaN</td>\n",
              "      <td>NaN</td>\n",
              "      <td>NaN</td>\n",
              "      <td>NaN</td>\n",
              "      <td>NaN</td>\n",
              "      <td>NaN</td>\n",
              "      <td>NaN</td>\n",
              "    </tr>\n",
              "    <tr>\n",
              "      <th>7</th>\n",
              "      <td>NaN</td>\n",
              "      <td>NaN</td>\n",
              "      <td>NaN</td>\n",
              "      <td>NaN</td>\n",
              "      <td>NaN</td>\n",
              "      <td>NaN</td>\n",
              "      <td>NaN</td>\n",
              "      <td>3.0</td>\n",
              "      <td>NaN</td>\n",
              "      <td>NaN</td>\n",
              "      <td>NaN</td>\n",
              "      <td>NaN</td>\n",
              "      <td>NaN</td>\n",
              "      <td>5.0</td>\n",
              "      <td>NaN</td>\n",
              "      <td>5.0</td>\n",
              "      <td>5.0</td>\n",
              "      <td>NaN</td>\n",
              "      <td>NaN</td>\n",
              "      <td>NaN</td>\n",
              "      <td>NaN</td>\n",
              "      <td>NaN</td>\n",
              "      <td>NaN</td>\n",
              "      <td>NaN</td>\n",
              "      <td>NaN</td>\n",
              "      <td>NaN</td>\n",
              "      <td>NaN</td>\n",
              "      <td>NaN</td>\n",
              "      <td>NaN</td>\n",
              "      <td>NaN</td>\n",
              "      <td>NaN</td>\n",
              "      <td>NaN</td>\n",
              "      <td>NaN</td>\n",
              "      <td>5.0</td>\n",
              "      <td>NaN</td>\n",
              "      <td>4.0</td>\n",
              "      <td>NaN</td>\n",
              "      <td>NaN</td>\n",
              "      <td>NaN</td>\n",
              "      <td>NaN</td>\n",
              "      <td>...</td>\n",
              "      <td>NaN</td>\n",
              "      <td>NaN</td>\n",
              "      <td>4.0</td>\n",
              "      <td>4.0</td>\n",
              "      <td>NaN</td>\n",
              "      <td>5.0</td>\n",
              "      <td>3.0</td>\n",
              "      <td>5.0</td>\n",
              "      <td>NaN</td>\n",
              "      <td>5.0</td>\n",
              "      <td>NaN</td>\n",
              "      <td>NaN</td>\n",
              "      <td>5.0</td>\n",
              "      <td>NaN</td>\n",
              "      <td>NaN</td>\n",
              "      <td>4.0</td>\n",
              "      <td>NaN</td>\n",
              "      <td>NaN</td>\n",
              "      <td>NaN</td>\n",
              "      <td>NaN</td>\n",
              "      <td>NaN</td>\n",
              "      <td>NaN</td>\n",
              "      <td>NaN</td>\n",
              "      <td>NaN</td>\n",
              "      <td>NaN</td>\n",
              "      <td>NaN</td>\n",
              "      <td>NaN</td>\n",
              "      <td>NaN</td>\n",
              "      <td>NaN</td>\n",
              "      <td>4.0</td>\n",
              "      <td>NaN</td>\n",
              "      <td>NaN</td>\n",
              "      <td>NaN</td>\n",
              "      <td>NaN</td>\n",
              "      <td>NaN</td>\n",
              "      <td>NaN</td>\n",
              "      <td>NaN</td>\n",
              "      <td>NaN</td>\n",
              "      <td>NaN</td>\n",
              "      <td>NaN</td>\n",
              "    </tr>\n",
              "    <tr>\n",
              "      <th>79</th>\n",
              "      <td>NaN</td>\n",
              "      <td>NaN</td>\n",
              "      <td>3.0</td>\n",
              "      <td>NaN</td>\n",
              "      <td>NaN</td>\n",
              "      <td>NaN</td>\n",
              "      <td>NaN</td>\n",
              "      <td>2.0</td>\n",
              "      <td>NaN</td>\n",
              "      <td>NaN</td>\n",
              "      <td>NaN</td>\n",
              "      <td>NaN</td>\n",
              "      <td>NaN</td>\n",
              "      <td>5.0</td>\n",
              "      <td>NaN</td>\n",
              "      <td>NaN</td>\n",
              "      <td>4.0</td>\n",
              "      <td>NaN</td>\n",
              "      <td>NaN</td>\n",
              "      <td>5.0</td>\n",
              "      <td>NaN</td>\n",
              "      <td>NaN</td>\n",
              "      <td>NaN</td>\n",
              "      <td>NaN</td>\n",
              "      <td>NaN</td>\n",
              "      <td>NaN</td>\n",
              "      <td>NaN</td>\n",
              "      <td>NaN</td>\n",
              "      <td>NaN</td>\n",
              "      <td>NaN</td>\n",
              "      <td>NaN</td>\n",
              "      <td>NaN</td>\n",
              "      <td>NaN</td>\n",
              "      <td>NaN</td>\n",
              "      <td>NaN</td>\n",
              "      <td>NaN</td>\n",
              "      <td>NaN</td>\n",
              "      <td>NaN</td>\n",
              "      <td>NaN</td>\n",
              "      <td>NaN</td>\n",
              "      <td>...</td>\n",
              "      <td>NaN</td>\n",
              "      <td>NaN</td>\n",
              "      <td>4.0</td>\n",
              "      <td>4.0</td>\n",
              "      <td>NaN</td>\n",
              "      <td>NaN</td>\n",
              "      <td>3.0</td>\n",
              "      <td>NaN</td>\n",
              "      <td>NaN</td>\n",
              "      <td>5.0</td>\n",
              "      <td>NaN</td>\n",
              "      <td>NaN</td>\n",
              "      <td>5.0</td>\n",
              "      <td>NaN</td>\n",
              "      <td>NaN</td>\n",
              "      <td>NaN</td>\n",
              "      <td>NaN</td>\n",
              "      <td>NaN</td>\n",
              "      <td>NaN</td>\n",
              "      <td>NaN</td>\n",
              "      <td>NaN</td>\n",
              "      <td>NaN</td>\n",
              "      <td>NaN</td>\n",
              "      <td>NaN</td>\n",
              "      <td>NaN</td>\n",
              "      <td>NaN</td>\n",
              "      <td>NaN</td>\n",
              "      <td>NaN</td>\n",
              "      <td>NaN</td>\n",
              "      <td>4.0</td>\n",
              "      <td>NaN</td>\n",
              "      <td>NaN</td>\n",
              "      <td>NaN</td>\n",
              "      <td>NaN</td>\n",
              "      <td>NaN</td>\n",
              "      <td>NaN</td>\n",
              "      <td>NaN</td>\n",
              "      <td>NaN</td>\n",
              "      <td>3.0</td>\n",
              "      <td>NaN</td>\n",
              "    </tr>\n",
              "    <tr>\n",
              "      <th>97</th>\n",
              "      <td>NaN</td>\n",
              "      <td>NaN</td>\n",
              "      <td>NaN</td>\n",
              "      <td>NaN</td>\n",
              "      <td>NaN</td>\n",
              "      <td>NaN</td>\n",
              "      <td>NaN</td>\n",
              "      <td>NaN</td>\n",
              "      <td>NaN</td>\n",
              "      <td>NaN</td>\n",
              "      <td>NaN</td>\n",
              "      <td>NaN</td>\n",
              "      <td>NaN</td>\n",
              "      <td>NaN</td>\n",
              "      <td>NaN</td>\n",
              "      <td>NaN</td>\n",
              "      <td>5.0</td>\n",
              "      <td>NaN</td>\n",
              "      <td>NaN</td>\n",
              "      <td>NaN</td>\n",
              "      <td>NaN</td>\n",
              "      <td>NaN</td>\n",
              "      <td>NaN</td>\n",
              "      <td>NaN</td>\n",
              "      <td>NaN</td>\n",
              "      <td>NaN</td>\n",
              "      <td>NaN</td>\n",
              "      <td>NaN</td>\n",
              "      <td>NaN</td>\n",
              "      <td>NaN</td>\n",
              "      <td>NaN</td>\n",
              "      <td>NaN</td>\n",
              "      <td>NaN</td>\n",
              "      <td>NaN</td>\n",
              "      <td>NaN</td>\n",
              "      <td>NaN</td>\n",
              "      <td>NaN</td>\n",
              "      <td>NaN</td>\n",
              "      <td>NaN</td>\n",
              "      <td>NaN</td>\n",
              "      <td>...</td>\n",
              "      <td>NaN</td>\n",
              "      <td>NaN</td>\n",
              "      <td>NaN</td>\n",
              "      <td>NaN</td>\n",
              "      <td>NaN</td>\n",
              "      <td>5.0</td>\n",
              "      <td>3.0</td>\n",
              "      <td>NaN</td>\n",
              "      <td>NaN</td>\n",
              "      <td>5.0</td>\n",
              "      <td>NaN</td>\n",
              "      <td>NaN</td>\n",
              "      <td>1.0</td>\n",
              "      <td>NaN</td>\n",
              "      <td>NaN</td>\n",
              "      <td>NaN</td>\n",
              "      <td>NaN</td>\n",
              "      <td>NaN</td>\n",
              "      <td>NaN</td>\n",
              "      <td>NaN</td>\n",
              "      <td>NaN</td>\n",
              "      <td>NaN</td>\n",
              "      <td>NaN</td>\n",
              "      <td>NaN</td>\n",
              "      <td>NaN</td>\n",
              "      <td>NaN</td>\n",
              "      <td>NaN</td>\n",
              "      <td>NaN</td>\n",
              "      <td>NaN</td>\n",
              "      <td>NaN</td>\n",
              "      <td>NaN</td>\n",
              "      <td>3.0</td>\n",
              "      <td>NaN</td>\n",
              "      <td>NaN</td>\n",
              "      <td>NaN</td>\n",
              "      <td>NaN</td>\n",
              "      <td>NaN</td>\n",
              "      <td>NaN</td>\n",
              "      <td>NaN</td>\n",
              "      <td>NaN</td>\n",
              "    </tr>\n",
              "    <tr>\n",
              "      <th>134</th>\n",
              "      <td>NaN</td>\n",
              "      <td>5.0</td>\n",
              "      <td>NaN</td>\n",
              "      <td>NaN</td>\n",
              "      <td>NaN</td>\n",
              "      <td>NaN</td>\n",
              "      <td>NaN</td>\n",
              "      <td>5.0</td>\n",
              "      <td>NaN</td>\n",
              "      <td>NaN</td>\n",
              "      <td>NaN</td>\n",
              "      <td>NaN</td>\n",
              "      <td>3.0</td>\n",
              "      <td>4.0</td>\n",
              "      <td>NaN</td>\n",
              "      <td>5.0</td>\n",
              "      <td>NaN</td>\n",
              "      <td>NaN</td>\n",
              "      <td>NaN</td>\n",
              "      <td>NaN</td>\n",
              "      <td>NaN</td>\n",
              "      <td>NaN</td>\n",
              "      <td>NaN</td>\n",
              "      <td>NaN</td>\n",
              "      <td>NaN</td>\n",
              "      <td>NaN</td>\n",
              "      <td>NaN</td>\n",
              "      <td>NaN</td>\n",
              "      <td>5.0</td>\n",
              "      <td>NaN</td>\n",
              "      <td>NaN</td>\n",
              "      <td>NaN</td>\n",
              "      <td>NaN</td>\n",
              "      <td>NaN</td>\n",
              "      <td>NaN</td>\n",
              "      <td>NaN</td>\n",
              "      <td>NaN</td>\n",
              "      <td>NaN</td>\n",
              "      <td>NaN</td>\n",
              "      <td>NaN</td>\n",
              "      <td>...</td>\n",
              "      <td>NaN</td>\n",
              "      <td>NaN</td>\n",
              "      <td>NaN</td>\n",
              "      <td>5.0</td>\n",
              "      <td>NaN</td>\n",
              "      <td>NaN</td>\n",
              "      <td>5.0</td>\n",
              "      <td>NaN</td>\n",
              "      <td>NaN</td>\n",
              "      <td>5.0</td>\n",
              "      <td>NaN</td>\n",
              "      <td>NaN</td>\n",
              "      <td>5.0</td>\n",
              "      <td>NaN</td>\n",
              "      <td>NaN</td>\n",
              "      <td>NaN</td>\n",
              "      <td>NaN</td>\n",
              "      <td>5.0</td>\n",
              "      <td>NaN</td>\n",
              "      <td>NaN</td>\n",
              "      <td>NaN</td>\n",
              "      <td>NaN</td>\n",
              "      <td>NaN</td>\n",
              "      <td>NaN</td>\n",
              "      <td>NaN</td>\n",
              "      <td>NaN</td>\n",
              "      <td>NaN</td>\n",
              "      <td>NaN</td>\n",
              "      <td>5.0</td>\n",
              "      <td>5.0</td>\n",
              "      <td>NaN</td>\n",
              "      <td>NaN</td>\n",
              "      <td>NaN</td>\n",
              "      <td>NaN</td>\n",
              "      <td>NaN</td>\n",
              "      <td>NaN</td>\n",
              "      <td>NaN</td>\n",
              "      <td>NaN</td>\n",
              "      <td>NaN</td>\n",
              "      <td>NaN</td>\n",
              "    </tr>\n",
              "  </tbody>\n",
              "</table>\n",
              "<p>5 rows × 1342 columns</p>\n",
              "</div>"
            ],
            "text/plain": [
              "title    10  10 Things I Hate About You  ...  Yu-Gi-Oh!: The Movie  Zorro\n",
              "user_id                                  ...                             \n",
              "6       NaN                         NaN  ...                   NaN    NaN\n",
              "7       NaN                         NaN  ...                   NaN    NaN\n",
              "79      NaN                         NaN  ...                   3.0    NaN\n",
              "97      NaN                         NaN  ...                   NaN    NaN\n",
              "134     NaN                         5.0  ...                   NaN    NaN\n",
              "\n",
              "[5 rows x 1342 columns]"
            ]
          },
          "metadata": {
            "tags": []
          },
          "execution_count": 57
        }
      ]
    },
    {
      "cell_type": "code",
      "metadata": {
        "colab": {
          "base_uri": "https://localhost:8080/"
        },
        "id": "pgIGn0kd8rsY",
        "outputId": "e6518c2c-9f7b-40da-9e88-babc1116c1a8"
      },
      "source": [
        "# Let's us find the ratings for the movie \"X2: X-Men United\"\r\n",
        "\r\n",
        "xmen_ratings = user_movie_matrix['X2: X-Men United']\r\n",
        "xmen_ratings.head()"
      ],
      "execution_count": 58,
      "outputs": [
        {
          "output_type": "execute_result",
          "data": {
            "text/plain": [
              "user_id\n",
              "6      2.0\n",
              "7      4.0\n",
              "79     4.0\n",
              "97     NaN\n",
              "134    5.0\n",
              "Name: X2: X-Men United, dtype: float64"
            ]
          },
          "metadata": {
            "tags": []
          },
          "execution_count": 58
        }
      ]
    },
    {
      "cell_type": "code",
      "metadata": {
        "colab": {
          "base_uri": "https://localhost:8080/"
        },
        "id": "rM2uJDhU8rsY",
        "outputId": "76e258c2-9fbf-4ff4-fa8a-0c6944adb773"
      },
      "source": [
        "# Returns a list of ratings given by various users for X-men movie in a pandas series\r\n",
        "\r\n",
        "# We will find the list of movies that are similar to X-men United movie by using correlation method\r\n",
        "\r\n",
        "movies_like_xmen = user_movie_matrix.corrwith(xmen_ratings)\r\n",
        "\r\n",
        "movies_like_xmen.head() # This gives list of movies similar to xmen movie along with its correlation value. Closer to 1 indicates highest similarity\r\n",
        "\r\n",
        "\r\n"
      ],
      "execution_count": 59,
      "outputs": [
        {
          "output_type": "execute_result",
          "data": {
            "text/plain": [
              "title\n",
              "10                                             0.142181\n",
              "10 Things I Hate About You                     0.226436\n",
              "101 Dalmatians II: Patch's London Adventure    0.230097\n",
              "11:14                                          0.130894\n",
              "13 Ghosts                                      0.256033\n",
              "dtype: float64"
            ]
          },
          "metadata": {
            "tags": []
          },
          "execution_count": 59
        }
      ]
    },
    {
      "cell_type": "code",
      "metadata": {
        "colab": {
          "base_uri": "https://localhost:8080/",
          "height": 235
        },
        "id": "-20lv_2q8rsZ",
        "outputId": "4d0223f4-7aa2-444f-adda-5914fa5378d3"
      },
      "source": [
        "#we can store the above in a dataframe\r\n",
        "\r\n",
        "corr_x_men = pd.DataFrame(movies_like_xmen, columns=['Correlation'])\r\n",
        "corr_x_men.head()\r\n"
      ],
      "execution_count": 60,
      "outputs": [
        {
          "output_type": "execute_result",
          "data": {
            "text/html": [
              "<div>\n",
              "<style scoped>\n",
              "    .dataframe tbody tr th:only-of-type {\n",
              "        vertical-align: middle;\n",
              "    }\n",
              "\n",
              "    .dataframe tbody tr th {\n",
              "        vertical-align: top;\n",
              "    }\n",
              "\n",
              "    .dataframe thead th {\n",
              "        text-align: right;\n",
              "    }\n",
              "</style>\n",
              "<table border=\"1\" class=\"dataframe\">\n",
              "  <thead>\n",
              "    <tr style=\"text-align: right;\">\n",
              "      <th></th>\n",
              "      <th>Correlation</th>\n",
              "    </tr>\n",
              "    <tr>\n",
              "      <th>title</th>\n",
              "      <th></th>\n",
              "    </tr>\n",
              "  </thead>\n",
              "  <tbody>\n",
              "    <tr>\n",
              "      <th>10</th>\n",
              "      <td>0.142181</td>\n",
              "    </tr>\n",
              "    <tr>\n",
              "      <th>10 Things I Hate About You</th>\n",
              "      <td>0.226436</td>\n",
              "    </tr>\n",
              "    <tr>\n",
              "      <th>101 Dalmatians II: Patch's London Adventure</th>\n",
              "      <td>0.230097</td>\n",
              "    </tr>\n",
              "    <tr>\n",
              "      <th>11:14</th>\n",
              "      <td>0.130894</td>\n",
              "    </tr>\n",
              "    <tr>\n",
              "      <th>13 Ghosts</th>\n",
              "      <td>0.256033</td>\n",
              "    </tr>\n",
              "  </tbody>\n",
              "</table>\n",
              "</div>"
            ],
            "text/plain": [
              "                                             Correlation\n",
              "title                                                   \n",
              "10                                              0.142181\n",
              "10 Things I Hate About You                      0.226436\n",
              "101 Dalmatians II: Patch's London Adventure     0.230097\n",
              "11:14                                           0.130894\n",
              "13 Ghosts                                       0.256033"
            ]
          },
          "metadata": {
            "tags": []
          },
          "execution_count": 60
        }
      ]
    },
    {
      "cell_type": "code",
      "metadata": {
        "colab": {
          "base_uri": "https://localhost:8080/",
          "height": 390
        },
        "id": "HZoNeTY-8rsZ",
        "outputId": "21461bc1-07c4-4b75-edbb-39e2c6b5e6ed"
      },
      "source": [
        "#sorting the movies in the decreasing order of correlation values\r\n",
        "\r\n",
        "corr_x_men.sort_values('Correlation', inplace=True, ascending=False)\r\n",
        "corr_x_men.head(10)"
      ],
      "execution_count": 61,
      "outputs": [
        {
          "output_type": "execute_result",
          "data": {
            "text/html": [
              "<div>\n",
              "<style scoped>\n",
              "    .dataframe tbody tr th:only-of-type {\n",
              "        vertical-align: middle;\n",
              "    }\n",
              "\n",
              "    .dataframe tbody tr th {\n",
              "        vertical-align: top;\n",
              "    }\n",
              "\n",
              "    .dataframe thead th {\n",
              "        text-align: right;\n",
              "    }\n",
              "</style>\n",
              "<table border=\"1\" class=\"dataframe\">\n",
              "  <thead>\n",
              "    <tr style=\"text-align: right;\">\n",
              "      <th></th>\n",
              "      <th>Correlation</th>\n",
              "    </tr>\n",
              "    <tr>\n",
              "      <th>title</th>\n",
              "      <th></th>\n",
              "    </tr>\n",
              "  </thead>\n",
              "  <tbody>\n",
              "    <tr>\n",
              "      <th>X2: X-Men United</th>\n",
              "      <td>1.000000</td>\n",
              "    </tr>\n",
              "    <tr>\n",
              "      <th>Batman Beyond: The Movie</th>\n",
              "      <td>0.384550</td>\n",
              "    </tr>\n",
              "    <tr>\n",
              "      <th>Justice League</th>\n",
              "      <td>0.375967</td>\n",
              "    </tr>\n",
              "    <tr>\n",
              "      <th>Justice League: Justice on Trial</th>\n",
              "      <td>0.361393</td>\n",
              "    </tr>\n",
              "    <tr>\n",
              "      <th>Batman Beyond: Return of the Joker</th>\n",
              "      <td>0.338025</td>\n",
              "    </tr>\n",
              "    <tr>\n",
              "      <th>Batman Begins</th>\n",
              "      <td>0.335256</td>\n",
              "    </tr>\n",
              "    <tr>\n",
              "      <th>Batman: Mask of the Phantasm</th>\n",
              "      <td>0.328229</td>\n",
              "    </tr>\n",
              "    <tr>\n",
              "      <th>Batman: The Animated Series: Tales of the Dark Knight</th>\n",
              "      <td>0.327040</td>\n",
              "    </tr>\n",
              "    <tr>\n",
              "      <th>Dragon Ball Z: Super Android 13</th>\n",
              "      <td>0.316666</td>\n",
              "    </tr>\n",
              "    <tr>\n",
              "      <th>Mortal Kombat: The Movie</th>\n",
              "      <td>0.316166</td>\n",
              "    </tr>\n",
              "  </tbody>\n",
              "</table>\n",
              "</div>"
            ],
            "text/plain": [
              "                                                    Correlation\n",
              "title                                                          \n",
              "X2: X-Men United                                       1.000000\n",
              "Batman Beyond: The Movie                               0.384550\n",
              "Justice League                                         0.375967\n",
              "Justice League: Justice on Trial                       0.361393\n",
              "Batman Beyond: Return of the Joker                     0.338025\n",
              "Batman Begins                                          0.335256\n",
              "Batman: Mask of the Phantasm                           0.328229\n",
              "Batman: The Animated Series: Tales of the Dark ...     0.327040\n",
              "Dragon Ball Z: Super Android 13                        0.316666\n",
              "Mortal Kombat: The Movie                               0.316166"
            ]
          },
          "metadata": {
            "tags": []
          },
          "execution_count": 61
        }
      ]
    },
    {
      "cell_type": "code",
      "metadata": {
        "colab": {
          "base_uri": "https://localhost:8080/",
          "height": 235
        },
        "id": "P2k0MYtM8rsa",
        "outputId": "7628759d-9fde-439b-aa53-bc3102a60c99"
      },
      "source": [
        "#we can include count of ratings for these movies and consider only those movies which has been most rated by the users say > 2000 users atleast\r\n",
        "\r\n",
        "corr_x_men = corr_x_men.join(mean_count_movies['count'])\r\n",
        "corr_x_men.head()"
      ],
      "execution_count": 62,
      "outputs": [
        {
          "output_type": "execute_result",
          "data": {
            "text/html": [
              "<div>\n",
              "<style scoped>\n",
              "    .dataframe tbody tr th:only-of-type {\n",
              "        vertical-align: middle;\n",
              "    }\n",
              "\n",
              "    .dataframe tbody tr th {\n",
              "        vertical-align: top;\n",
              "    }\n",
              "\n",
              "    .dataframe thead th {\n",
              "        text-align: right;\n",
              "    }\n",
              "</style>\n",
              "<table border=\"1\" class=\"dataframe\">\n",
              "  <thead>\n",
              "    <tr style=\"text-align: right;\">\n",
              "      <th></th>\n",
              "      <th>Correlation</th>\n",
              "      <th>count</th>\n",
              "    </tr>\n",
              "    <tr>\n",
              "      <th>title</th>\n",
              "      <th></th>\n",
              "      <th></th>\n",
              "    </tr>\n",
              "  </thead>\n",
              "  <tbody>\n",
              "    <tr>\n",
              "      <th>X2: X-Men United</th>\n",
              "      <td>1.000000</td>\n",
              "      <td>98720</td>\n",
              "    </tr>\n",
              "    <tr>\n",
              "      <th>Batman Beyond: The Movie</th>\n",
              "      <td>0.384550</td>\n",
              "      <td>2614</td>\n",
              "    </tr>\n",
              "    <tr>\n",
              "      <th>Justice League</th>\n",
              "      <td>0.375967</td>\n",
              "      <td>3591</td>\n",
              "    </tr>\n",
              "    <tr>\n",
              "      <th>Justice League: Justice on Trial</th>\n",
              "      <td>0.361393</td>\n",
              "      <td>2961</td>\n",
              "    </tr>\n",
              "    <tr>\n",
              "      <th>Batman Beyond: Return of the Joker</th>\n",
              "      <td>0.338025</td>\n",
              "      <td>3704</td>\n",
              "    </tr>\n",
              "  </tbody>\n",
              "</table>\n",
              "</div>"
            ],
            "text/plain": [
              "                                    Correlation  count\n",
              "title                                                 \n",
              "X2: X-Men United                       1.000000  98720\n",
              "Batman Beyond: The Movie               0.384550   2614\n",
              "Justice League                         0.375967   3591\n",
              "Justice League: Justice on Trial       0.361393   2961\n",
              "Batman Beyond: Return of the Joker     0.338025   3704"
            ]
          },
          "metadata": {
            "tags": []
          },
          "execution_count": 62
        }
      ]
    },
    {
      "cell_type": "code",
      "metadata": {
        "colab": {
          "base_uri": "https://localhost:8080/"
        },
        "id": "JQCejtoE8rsa",
        "outputId": "ed245824-8ad6-42d4-a7e8-3dc8650e4bff"
      },
      "source": [
        "mean_count_movies.head()\r\n",
        "mean_count_movies.info()"
      ],
      "execution_count": 63,
      "outputs": [
        {
          "output_type": "stream",
          "text": [
            "<class 'pandas.core.frame.DataFrame'>\n",
            "Index: 4471 entries, 'N Sync: 'N the Mix to s-Cry-ed\n",
            "Data columns (total 2 columns):\n",
            " #   Column  Non-Null Count  Dtype  \n",
            "---  ------  --------------  -----  \n",
            " 0   rating  4471 non-null   float64\n",
            " 1   count   4471 non-null   int64  \n",
            "dtypes: float64(1), int64(1)\n",
            "memory usage: 264.8+ KB\n"
          ],
          "name": "stdout"
        }
      ]
    },
    {
      "cell_type": "code",
      "metadata": {
        "colab": {
          "base_uri": "https://localhost:8080/"
        },
        "id": "npXKYOVY8rsb",
        "outputId": "5e232255-00ab-485f-a771-45184ad0e6eb"
      },
      "source": [
        "mean_count_movies.loc['Silent Service']"
      ],
      "execution_count": 64,
      "outputs": [
        {
          "output_type": "execute_result",
          "data": {
            "text/plain": [
              "rating      2.571429\n",
              "count     105.000000\n",
              "Name: Silent Service, dtype: float64"
            ]
          },
          "metadata": {
            "tags": []
          },
          "execution_count": 64
        }
      ]
    },
    {
      "cell_type": "code",
      "metadata": {
        "colab": {
          "base_uri": "https://localhost:8080/",
          "height": 390
        },
        "id": "98LkEbb78rsb",
        "outputId": "6e33df0c-8914-44b7-971a-938a4f500dfc"
      },
      "source": [
        "corr_x_men[corr_x_men['count']>2000].sort_values('Correlation', ascending=False)\r\n",
        "corr_x_men.head(10)\r\n"
      ],
      "execution_count": 65,
      "outputs": [
        {
          "output_type": "execute_result",
          "data": {
            "text/html": [
              "<div>\n",
              "<style scoped>\n",
              "    .dataframe tbody tr th:only-of-type {\n",
              "        vertical-align: middle;\n",
              "    }\n",
              "\n",
              "    .dataframe tbody tr th {\n",
              "        vertical-align: top;\n",
              "    }\n",
              "\n",
              "    .dataframe thead th {\n",
              "        text-align: right;\n",
              "    }\n",
              "</style>\n",
              "<table border=\"1\" class=\"dataframe\">\n",
              "  <thead>\n",
              "    <tr style=\"text-align: right;\">\n",
              "      <th></th>\n",
              "      <th>Correlation</th>\n",
              "      <th>count</th>\n",
              "    </tr>\n",
              "    <tr>\n",
              "      <th>title</th>\n",
              "      <th></th>\n",
              "      <th></th>\n",
              "    </tr>\n",
              "  </thead>\n",
              "  <tbody>\n",
              "    <tr>\n",
              "      <th>X2: X-Men United</th>\n",
              "      <td>1.000000</td>\n",
              "      <td>98720</td>\n",
              "    </tr>\n",
              "    <tr>\n",
              "      <th>Batman Beyond: The Movie</th>\n",
              "      <td>0.384550</td>\n",
              "      <td>2614</td>\n",
              "    </tr>\n",
              "    <tr>\n",
              "      <th>Justice League</th>\n",
              "      <td>0.375967</td>\n",
              "      <td>3591</td>\n",
              "    </tr>\n",
              "    <tr>\n",
              "      <th>Justice League: Justice on Trial</th>\n",
              "      <td>0.361393</td>\n",
              "      <td>2961</td>\n",
              "    </tr>\n",
              "    <tr>\n",
              "      <th>Batman Beyond: Return of the Joker</th>\n",
              "      <td>0.338025</td>\n",
              "      <td>3704</td>\n",
              "    </tr>\n",
              "    <tr>\n",
              "      <th>Batman Begins</th>\n",
              "      <td>0.335256</td>\n",
              "      <td>54922</td>\n",
              "    </tr>\n",
              "    <tr>\n",
              "      <th>Batman: Mask of the Phantasm</th>\n",
              "      <td>0.328229</td>\n",
              "      <td>2823</td>\n",
              "    </tr>\n",
              "    <tr>\n",
              "      <th>Batman: The Animated Series: Tales of the Dark Knight</th>\n",
              "      <td>0.327040</td>\n",
              "      <td>2432</td>\n",
              "    </tr>\n",
              "    <tr>\n",
              "      <th>Dragon Ball Z: Super Android 13</th>\n",
              "      <td>0.316666</td>\n",
              "      <td>2426</td>\n",
              "    </tr>\n",
              "    <tr>\n",
              "      <th>Mortal Kombat: The Movie</th>\n",
              "      <td>0.316166</td>\n",
              "      <td>7633</td>\n",
              "    </tr>\n",
              "  </tbody>\n",
              "</table>\n",
              "</div>"
            ],
            "text/plain": [
              "                                                    Correlation  count\n",
              "title                                                                 \n",
              "X2: X-Men United                                       1.000000  98720\n",
              "Batman Beyond: The Movie                               0.384550   2614\n",
              "Justice League                                         0.375967   3591\n",
              "Justice League: Justice on Trial                       0.361393   2961\n",
              "Batman Beyond: Return of the Joker                     0.338025   3704\n",
              "Batman Begins                                          0.335256  54922\n",
              "Batman: Mask of the Phantasm                           0.328229   2823\n",
              "Batman: The Animated Series: Tales of the Dark ...     0.327040   2432\n",
              "Dragon Ball Z: Super Android 13                        0.316666   2426\n",
              "Mortal Kombat: The Movie                               0.316166   7633"
            ]
          },
          "metadata": {
            "tags": []
          },
          "execution_count": 65
        }
      ]
    },
    {
      "cell_type": "code",
      "metadata": {
        "colab": {
          "base_uri": "https://localhost:8080/",
          "height": 696
        },
        "id": "wisdEptQ8rsb",
        "outputId": "928f7e6f-29a6-4735-9143-93ebc51e0c96"
      },
      "source": [
        "top10corr = corr_x_men[1:11]\r\n",
        "top10corr.reset_index(inplace=True)\r\n",
        "plt.figure(figsize=(20,8))\r\n",
        "ax = sns.barplot(x='title',y='Correlation', data = top10corr)\r\n",
        "plt.title(\"Top 10 movies recommended by Content-Based Filtering Approach of Recommendation Systems\",fontsize=25)\r\n",
        "plt.xlabel(\"Movies\")\r\n",
        "ax.set_xticklabels(ax.get_xticklabels(), rotation = 40, ha='right')\r\n",
        "\r\n",
        "plt.ylabel(\"Pearson's Correlation Value\")\r\n",
        "plt.show()"
      ],
      "execution_count": 66,
      "outputs": [
        {
          "output_type": "display_data",
          "data": {
            "image/png": "[encoded data removed]",
            "text/plain": [
              "<Figure size 1440x576 with 1 Axes>"
            ]
          },
          "metadata": {
            "tags": [],
            "needs_background": "light"
          }
        }
      ]
    },
    {
      "cell_type": "code",
      "metadata": {
        "id": "vGQYYv6H8rsb"
      },
      "source": [
        ""
      ],
      "execution_count": 66,
      "outputs": []
    },
    {
      "cell_type": "markdown",
      "metadata": {
        "id": "Wwf82gQ98zo0"
      },
      "source": [
        "**Collaborative - Based Filtering Approach**\r\n"
      ]
    },
    {
      "cell_type": "code",
      "metadata": {
        "id": "tStsF4AI88oc"
      },
      "source": [
        "# Step 1 & 2\r\n",
        "# Check the movies that is not watched by the intended(active) user for whom we are going to make the predictions. And collect those movies and its users who watched and rated them --> Ratings User Matrix\r\n",
        "# Learn the similarity weights - Similarity between the intended user and other users based on commonly watched and rated movies by them --> Similarity Index\r\n",
        "\r\n",
        "\r\n",
        "# Step 3\r\n",
        "# Multiply the above two matrices to generate Weighted Ratings Matrix which will represent the users' neighbour's (similar users) opinions about the candidate movies for recommendation.\r\n",
        "# It incorporates the behaviour of other users and gives more weight to the ratings of those users who are more similar to the active user.\r\n",
        "\r\n",
        "# Step 4\r\n",
        "# Use the Weighted Ratings matrix and Calculate the sum of weights for all the movies\r\n",
        "# Calculate the sum of Similarity index values of users who watched the movies \r\n",
        "\r\n",
        "\r\n",
        "# Step 5\r\n",
        "# Multiple the results of Step 4 with each other to generate the Recommendation matrix\r\n"
      ],
      "execution_count": 67,
      "outputs": []
    },
    {
      "cell_type": "code",
      "metadata": {
        "id": "A0FLS0KPNtwe"
      },
      "source": [
        "# User - User Collaborative filtering:\r\n",
        "# Simialr users forms the neighbourhood i.e., their collective preferences or tastes that matches with the intended user is considered.\r\n",
        "\r\n",
        "# For example we want to recommend some movies to User 1\r\n",
        "# If User 1 watched movie A, B and User 2 watched movies A, B, C and User 3 watched D, E\r\n",
        "# Then the system identifies users similar to user 1. User 1 & 2 are similar since they watched same set of movies A & B. Hence the system will recommend movie C to User 1 since user 2 has watched C.\r\n"
      ],
      "execution_count": 68,
      "outputs": []
    },
    {
      "cell_type": "code",
      "metadata": {
        "id": "O3tk-DhrQfzQ"
      },
      "source": [
        "# Item - Item Collaborative filtering:\r\n",
        "# Similar items forms the neighbourhood on the behaviour of users.\r\n",
        "\r\n",
        "#For example \r\n",
        "# If User 1 watched movies A, C, User 2 -> A, C User 3 -> C, D\r\n",
        "\r\n",
        "# Here the items A, C are similar\r\n",
        "# Therefore, the systems recommends movie A to user 3 because people who watched movie C also watched movie A. Since user 3 had already atched movie C, he/she will be recommended to watch movie A"
      ],
      "execution_count": 69,
      "outputs": []
    },
    {
      "cell_type": "code",
      "metadata": {
        "colab": {
          "base_uri": "https://localhost:8080/",
          "height": 204
        },
        "id": "OyxP91T6SOmu",
        "outputId": "72e992dd-7398-41a0-8098-02e9bdbb1e2b"
      },
      "source": [
        "df.head()"
      ],
      "execution_count": 70,
      "outputs": [
        {
          "output_type": "execute_result",
          "data": {
            "text/html": [
              "<div>\n",
              "<style scoped>\n",
              "    .dataframe tbody tr th:only-of-type {\n",
              "        vertical-align: middle;\n",
              "    }\n",
              "\n",
              "    .dataframe tbody tr th {\n",
              "        vertical-align: top;\n",
              "    }\n",
              "\n",
              "    .dataframe thead th {\n",
              "        text-align: right;\n",
              "    }\n",
              "</style>\n",
              "<table border=\"1\" class=\"dataframe\">\n",
              "  <thead>\n",
              "    <tr style=\"text-align: right;\">\n",
              "      <th></th>\n",
              "      <th>movie_id</th>\n",
              "      <th>user_id</th>\n",
              "      <th>rating</th>\n",
              "      <th>date</th>\n",
              "    </tr>\n",
              "  </thead>\n",
              "  <tbody>\n",
              "    <tr>\n",
              "      <th>0</th>\n",
              "      <td>1</td>\n",
              "      <td>1488844</td>\n",
              "      <td>3</td>\n",
              "      <td>2005-09-06</td>\n",
              "    </tr>\n",
              "    <tr>\n",
              "      <th>1</th>\n",
              "      <td>1</td>\n",
              "      <td>822109</td>\n",
              "      <td>5</td>\n",
              "      <td>2005-05-13</td>\n",
              "    </tr>\n",
              "    <tr>\n",
              "      <th>2</th>\n",
              "      <td>1</td>\n",
              "      <td>885013</td>\n",
              "      <td>4</td>\n",
              "      <td>2005-10-19</td>\n",
              "    </tr>\n",
              "    <tr>\n",
              "      <th>3</th>\n",
              "      <td>1</td>\n",
              "      <td>30878</td>\n",
              "      <td>4</td>\n",
              "      <td>2005-12-26</td>\n",
              "    </tr>\n",
              "    <tr>\n",
              "      <th>4</th>\n",
              "      <td>1</td>\n",
              "      <td>823519</td>\n",
              "      <td>3</td>\n",
              "      <td>2004-05-03</td>\n",
              "    </tr>\n",
              "  </tbody>\n",
              "</table>\n",
              "</div>"
            ],
            "text/plain": [
              "   movie_id  user_id  rating        date\n",
              "0         1  1488844       3  2005-09-06\n",
              "1         1   822109       5  2005-05-13\n",
              "2         1   885013       4  2005-10-19\n",
              "3         1    30878       4  2005-12-26\n",
              "4         1   823519       3  2004-05-03"
            ]
          },
          "metadata": {
            "tags": []
          },
          "execution_count": 70
        }
      ]
    },
    {
      "cell_type": "code",
      "metadata": {
        "id": "L8Hq899pUsnH"
      },
      "source": [
        ""
      ],
      "execution_count": null,
      "outputs": []
    }
  ]
}